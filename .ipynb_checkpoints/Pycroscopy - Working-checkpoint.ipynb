{
 "cells": [
  {
   "cell_type": "code",
   "execution_count": 3,
   "metadata": {
    "scrolled": false
   },
   "outputs": [],
   "source": [
    "from pycroscopy.io.translators import ImageStackTranslator"
   ]
  },
  {
   "cell_type": "code",
   "execution_count": 5,
   "metadata": {},
   "outputs": [
    {
     "ename": "PermissionError",
     "evalue": "[WinError 32] The process cannot access the file because it is being used by another process: 'C:\\\\Users\\\\kbs1\\\\Documents\\\\TestData\\\\Test\\\\SmallTest\\\\Test.hdf5'",
     "output_type": "error",
     "traceback": [
      "\u001b[1;31m---------------------------------------------------------------------------\u001b[0m",
      "\u001b[1;31mPermissionError\u001b[0m                           Traceback (most recent call last)",
      "\u001b[1;32m<ipython-input-5-028fc13e5cd1>\u001b[0m in \u001b[0;36m<module>\u001b[1;34m\u001b[0m\n\u001b[0;32m      2\u001b[0m \u001b[0mData_path\u001b[0m \u001b[1;33m=\u001b[0m \u001b[1;34m'C:\\\\Users\\\\kbs1\\\\Documents\\\\TestData\\\\Test\\\\SmallTest\\\\'\u001b[0m\u001b[1;33m\u001b[0m\u001b[0m\n\u001b[0;32m      3\u001b[0m \u001b[0mtran\u001b[0m\u001b[1;33m=\u001b[0m\u001b[0mImageStackTranslator\u001b[0m\u001b[1;33m(\u001b[0m\u001b[1;33m)\u001b[0m\u001b[1;33m\u001b[0m\u001b[0m\n\u001b[1;32m----> 4\u001b[1;33m \u001b[0mtest_data\u001b[0m\u001b[1;33m=\u001b[0m \u001b[0mtran\u001b[0m\u001b[1;33m.\u001b[0m\u001b[0mtranslate\u001b[0m\u001b[1;33m(\u001b[0m\u001b[0mhdf5_path\u001b[0m\u001b[1;33m,\u001b[0m \u001b[0mData_path\u001b[0m\u001b[1;33m,\u001b[0m \u001b[0mimage_type\u001b[0m\u001b[1;33m=\u001b[0m\u001b[1;34m'.dm3'\u001b[0m\u001b[1;33m,\u001b[0m\u001b[0mmeta_data\u001b[0m\u001b[1;33m=\u001b[0m\u001b[1;32mTrue\u001b[0m \u001b[1;33m)\u001b[0m\u001b[1;33m\u001b[0m\u001b[0m\n\u001b[0m",
      "\u001b[1;32m~\\AppData\\Local\\Continuum\\anaconda3\\envs\\pycroscopy\\lib\\site-packages\\pycroscopy\\io\\translators\\ImageStack.py\u001b[0m in \u001b[0;36mtranslate\u001b[1;34m(self, h5_path, image_path, bin_factor, bin_func, start_image, scan_size_x, scan_size_y, image_type, meta_data)\u001b[0m\n\u001b[0;32m     82\u001b[0m         \u001b[1;31m# Open the hdf5 file and delete any contents\u001b[0m\u001b[1;33m\u001b[0m\u001b[1;33m\u001b[0m\u001b[0m\n\u001b[0;32m     83\u001b[0m         \u001b[1;32mif\u001b[0m \u001b[0mos\u001b[0m\u001b[1;33m.\u001b[0m\u001b[0mpath\u001b[0m\u001b[1;33m.\u001b[0m\u001b[0mexists\u001b[0m\u001b[1;33m(\u001b[0m\u001b[0mh5_path\u001b[0m\u001b[1;33m)\u001b[0m\u001b[1;33m:\u001b[0m\u001b[1;33m\u001b[0m\u001b[0m\n\u001b[1;32m---> 84\u001b[1;33m             \u001b[0mos\u001b[0m\u001b[1;33m.\u001b[0m\u001b[0mremove\u001b[0m\u001b[1;33m(\u001b[0m\u001b[0mh5_path\u001b[0m\u001b[1;33m)\u001b[0m\u001b[1;33m\u001b[0m\u001b[0m\n\u001b[0m\u001b[0;32m     85\u001b[0m         \u001b[0mh5_file\u001b[0m \u001b[1;33m=\u001b[0m \u001b[0mh5py\u001b[0m\u001b[1;33m.\u001b[0m\u001b[0mFile\u001b[0m\u001b[1;33m(\u001b[0m\u001b[0mh5_path\u001b[0m\u001b[1;33m,\u001b[0m \u001b[1;34m'w'\u001b[0m\u001b[1;33m)\u001b[0m\u001b[1;33m\u001b[0m\u001b[0m\n\u001b[0;32m     86\u001b[0m \u001b[1;33m\u001b[0m\u001b[0m\n",
      "\u001b[1;31mPermissionError\u001b[0m: [WinError 32] The process cannot access the file because it is being used by another process: 'C:\\\\Users\\\\kbs1\\\\Documents\\\\TestData\\\\Test\\\\SmallTest\\\\Test.hdf5'"
     ]
    }
   ],
   "source": [
    "hdf5_path = 'C:\\\\Users\\\\kbs1\\\\Documents\\\\TestData\\\\Test\\\\SmallTest\\\\Test.hdf5'\n",
    "Data_path = 'C:\\\\Users\\\\kbs1\\\\Documents\\\\TestData\\\\Test\\\\SmallTest\\\\'\n",
    "tran=ImageStackTranslator()\n",
    "test_data= tran.translate(hdf5_path, Data_path, image_type='.dm3',meta_data=True )"
   ]
  },
  {
   "cell_type": "code",
   "execution_count": null,
   "metadata": {},
   "outputs": [],
   "source": [
    "from pycroscopy.io.translators.df_utils.dm_utils import read_dm3\n",
    "Data_path = 'C:\\\\Users\\\\kbs1\\\\Documents\\\\TestData\\\\Test\\\\SmallTest\\\\'\n",
    "filename=Data_path+'/1.dm3'\n",
    "images, image_params= read_dm3(filename)"
   ]
  },
  {
   "cell_type": "code",
   "execution_count": null,
   "metadata": {},
   "outputs": [],
   "source": [
    "\n",
    "def test(meta_data):\n",
    "        if meta_data==True:\n",
    "            meta_dataset=list(image_params)\n",
    "        elif type(meta_data)==list:\n",
    "            meta_dataset={}\n",
    "            for item in meta_data:\n",
    "                meta_dataset[item] = image_params[item]\n",
    "        else:\n",
    "            meta_dataset=None\n",
    "        return meta_dataset\n",
    "    \n"
   ]
  },
  {
   "cell_type": "code",
   "execution_count": null,
   "metadata": {},
   "outputs": [],
   "source": [
    "a=image_params\n",
    "type(a)"
   ]
  },
  {
   "cell_type": "code",
   "execution_count": null,
   "metadata": {},
   "outputs": [],
   "source": [
    "import numpy as np\n",
    "a=test(meta_data=True)\n",
    "type(np.array(a)[0])"
   ]
  },
  {
   "cell_type": "code",
   "execution_count": null,
   "metadata": {},
   "outputs": [],
   "source": [
    "np.U32"
   ]
  },
  {
   "cell_type": "code",
   "execution_count": null,
   "metadata": {},
   "outputs": [],
   "source": [
    "import os\n",
    "def _parse_file_path(path, ftype='all'):\n",
    "        \"\"\"\n",
    "        Returns a list of all files in the directory given by path\n",
    "        \n",
    "        Parameters\n",
    "        ---------------\n",
    "        path : string / unicode\n",
    "            absolute path to directory containing files\n",
    "        ftype : this file types to return in file_list. (optional. Default is all) \n",
    "        \n",
    "        Returns\n",
    "        ----------\n",
    "        file_list : list of strings\n",
    "            names of all files in directory located at path\n",
    "        numfiles : unsigned int\n",
    "            number of files in file_list\n",
    "        \"\"\"    \n",
    "        \n",
    "        # Get all files in directory\n",
    "        file_list = os.listdir(path)\n",
    "        \n",
    "        # If no file type specified, return full list\n",
    "        if ftype == 'all':\n",
    "            return file_list\n",
    "\n",
    "        # Remove files of type other than the request ftype from the list\n",
    "        new_file_list = []\n",
    "        for this_thing in file_list:\n",
    "            # Make sure it's really a file\n",
    "            if not os.path.isfile(os.path.join(path, this_thing)):\n",
    "                continue\n",
    "\n",
    "            split = os.path.splitext(this_thing)\n",
    "            ext = split[1]\n",
    "            if ext == ftype:\n",
    "                new_file_list.append(os.path.join(path, this_thing))\n",
    "\n",
    "        return new_file_list"
   ]
  },
  {
   "cell_type": "code",
   "execution_count": null,
   "metadata": {},
   "outputs": [],
   "source": [
    "\n",
    "file_list = _parse_file_path(Data_path, '.dm3')"
   ]
  },
  {
   "cell_type": "code",
   "execution_count": null,
   "metadata": {},
   "outputs": [],
   "source": [
    "file_list"
   ]
  },
  {
   "cell_type": "code",
   "execution_count": null,
   "metadata": {},
   "outputs": [],
   "source": [
    "num_files = len(file_list)\n",
    "for ifile, thisfile in enumerate(file_list):\n",
    "    print(ifile)\n",
    "    print(thisfile)\n",
    "    selected = (ifile + 1) % round(num_files / 16) == 0"
   ]
  },
  {
   "cell_type": "code",
   "execution_count": null,
   "metadata": {},
   "outputs": [],
   "source": [
    "import numpy as np\n",
    "scan_size_x = int(np.floor(np.sqrt(len(file_list))))\n",
    "scan_size_y = scan_size_x\n",
    "scan_size_y = int(np.floor(len(file_list) / scan_size_x))\n",
    "num_files = scan_size_x*scan_size_y"
   ]
  },
  {
   "cell_type": "code",
   "execution_count": null,
   "metadata": {},
   "outputs": [],
   "source": [
    "round(num_files / 16)"
   ]
  },
  {
   "cell_type": "code",
   "execution_count": null,
   "metadata": {},
   "outputs": [],
   "source": []
  },
  {
   "cell_type": "code",
   "execution_count": null,
   "metadata": {},
   "outputs": [],
   "source": []
  }
 ],
 "metadata": {
  "kernelspec": {
   "display_name": "Python [conda env:pycroscopy]",
   "language": "python",
   "name": "conda-env-pycroscopy-py"
  },
  "language_info": {
   "codemirror_mode": {
    "name": "ipython",
    "version": 3
   },
   "file_extension": ".py",
   "mimetype": "text/x-python",
   "name": "python",
   "nbconvert_exporter": "python",
   "pygments_lexer": "ipython3",
   "version": "3.6.6"
  }
 },
 "nbformat": 4,
 "nbformat_minor": 2
}
