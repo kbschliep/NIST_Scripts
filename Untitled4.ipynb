{
 "cells": [
  {
   "cell_type": "code",
   "execution_count": null,
   "metadata": {},
   "outputs": [],
   "source": [
    "class tartar(object):\n",
    "    \n",
    "    def __init__(self, name, species):\n",
    "        self.name = name\n",
    "        self.species = species\n",
    "        \n",
    "    def getName(self):\n",
    "        return self.name\n",
    "\n",
    "    def getSpecies(self):\n",
    "        return self.species\n",
    "\n",
    "class Pet(tartar):\n",
    "    \n",
    "    def __str__(self):\n",
    "        a = self.name + 'bacon'\n",
    "        return \"%s is a %s\" % (a, self.species)\n",
    "\n",
    "\n",
    "a = Pet('hand', 'foot')\n",
    "print(a) "
   ]
  },
  {
   "cell_type": "code",
   "execution_count": 6,
   "metadata": {},
   "outputs": [],
   "source": [
    "%matplotlib qt4 \n",
    "#uses matplotlib qt4 interface\n",
    "import numpy as np\n",
    "import matplotlib.pyplot as plt\n",
    "import matplotlib.lines as lines\n",
    "\n",
    "class HighlightSelected(lines.VertexSelector):\n",
    "    def __init__(self, line, fmt='ro', **kwargs):\n",
    "        lines.VertexSelector.__init__(self, line)\n",
    "        self.markers, = self.axes.plot([], [], fmt, **kwargs)\n",
    "\n",
    "    def process_selected(self, ind, xs, ys):\n",
    "        self.markers.set_data(xs, ys)\n",
    "        self.canvas.draw()\n",
    "\n",
    "fig = plt.figure()\n",
    "ax = fig.add_subplot(111)\n",
    "x, y = np.random.rand(2, 30)\n",
    "line, = ax.plot(x, y, 'bs-', picker=5)\n",
    "\n",
    "selector = HighlightSelected(line)\n",
    "plt.show()"
   ]
  },
  {
   "cell_type": "code",
   "execution_count": 7,
   "metadata": {
    "collapsed": true
   },
   "outputs": [],
   "source": [
    "from matplotlib.lines import Line2D\n",
    "_shape= Line2D\n",
    "a=_shape([0,1],[0,1])"
   ]
  },
  {
   "cell_type": "code",
   "execution_count": 15,
   "metadata": {},
   "outputs": [
    {
     "data": {
      "text/plain": [
       "([0, 1], [0, 1])"
      ]
     },
     "execution_count": 15,
     "metadata": {},
     "output_type": "execute_result"
    }
   ],
   "source": [
    "a.get_data()"
   ]
  },
  {
   "cell_type": "code",
   "execution_count": null,
   "metadata": {
    "collapsed": true
   },
   "outputs": [],
   "source": []
  }
 ],
 "metadata": {
  "kernelspec": {
   "display_name": "Python 3",
   "language": "python",
   "name": "python3"
  },
  "language_info": {
   "codemirror_mode": {
    "name": "ipython",
    "version": 3
   },
   "file_extension": ".py",
   "mimetype": "text/x-python",
   "name": "python",
   "nbconvert_exporter": "python",
   "pygments_lexer": "ipython3",
   "version": "3.5.1"
  }
 },
 "nbformat": 4,
 "nbformat_minor": 2
}
