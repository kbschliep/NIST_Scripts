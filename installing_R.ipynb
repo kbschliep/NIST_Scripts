{
 "cells": [
  {
   "cell_type": "markdown",
   "metadata": {},
   "source": [
    "# Installating R on WinPython\n",
    "\n",
    "#### This procedure applys for Winpython  (Version of December 2015 and after) \n",
    "### 1 - Downloading and Installing R binary in the right place"
   ]
  },
  {
   "cell_type": "code",
   "execution_count": 1,
   "metadata": {
    "collapsed": false
   },
   "outputs": [],
   "source": [
    "import os\n",
    "import sys\n",
    "import io"
   ]
  },
  {
   "cell_type": "code",
   "execution_count": 2,
   "metadata": {
    "collapsed": false
   },
   "outputs": [],
   "source": [
    "os.environ[\"tmp_Rdirectory\"]= \"R\" \n",
    "os.environ[\"R_HOME\"] = os.environ[\"WINPYDIR\"]+ \"\\\\..\\\\tools\\\\R\\\\\" \n",
    "os.environ[\"R_HOMEbin\"]=os.environ[\"R_HOME\"] + \"bin\" \n",
    "# for installation we need this\n",
    "os.environ[\"tmp_Rbase\"]=os.path.join(os.path.split(os.environ[\"WINPYDIR\"])[0]  , 'tools','R' )  "
   ]
  },
  {
   "cell_type": "code",
   "execution_count": 3,
   "metadata": {
    "collapsed": false
   },
   "outputs": [],
   "source": [
    "# downloading R-3.2.3 (65 380 480 Bytes, may takes a few minutes)\n",
    "try:\n",
    "    import urllib.request as urllib2  # Python 3\n",
    "except:\n",
    "    import urllib2  # Python 2\n",
    "if 'amd64' in sys.version.lower():\n",
    "    r_comp ='/COMPONENTS=\"main,x64,translations'\n",
    "else:\n",
    "    r_comp ='/COMPONENTS=\"main,i386,translations'\n",
    "\n",
    "# specify R binary and hash\n",
    "r_url = \"https://cran.r-project.org/bin/windows/base/R-3.2.3-win.exe\"\n",
    "hashes=(\"5572ce407831ce9156485d4f896ad616\", \"b86077268e4aa5498482f4514202009009ddf947\" )\n",
    "\n",
    "# specify target location\n",
    "r_binary = os.path.basename(r_url)\n",
    "r_installer = os.environ[\"WINPYDIR\"]+\"\\\\..\\\\tools\\\\\"+r_binary\n",
    "os.environ[\"r_installer\"] = r_installer\n",
    "\n",
    "# Download\n",
    "g = urllib2.urlopen(r_url) \n",
    "with io.open(r_installer, 'wb') as f:\n",
    "    f.write(g.read())\n",
    "g.close\n",
    "g = None"
   ]
  },
  {
   "cell_type": "code",
   "execution_count": 4,
   "metadata": {
    "collapsed": false
   },
   "outputs": [
    {
     "name": "stdout",
     "output_type": "stream",
     "text": [
      " Le volume dans le lecteur D s'appelle DATA\n",
      " Le num‚ro de s‚rie du volume est 10BD-2ADB\n",
      "\n",
      " R‚pertoire de D:\\result_tests\\winpython-3.5.1.amd64\\tools\n",
      "\n",
      "03/01/2016  12:19        65ÿ380ÿ480 R-3.2.3-win.exe\n",
      "               1 fichier(s)       65ÿ380ÿ480 octets\n",
      "               0 R‚p(s)  133ÿ833ÿ940ÿ992 octets libres\n"
     ]
    }
   ],
   "source": [
    "#checking it's there\n",
    "!dir %r_installer%"
   ]
  },
  {
   "cell_type": "code",
   "execution_count": 5,
   "metadata": {
    "collapsed": false
   },
   "outputs": [
    {
     "name": "stdout",
     "output_type": "stream",
     "text": [
      "            MD5                                 SHA-1                    \n",
      "-------------------------------- ----------------------------------------\n",
      "5572ce407831ce9156485d4f896ad616 b86077268e4aa5498482f4514202009009ddf947 D:\\result_tests\\winpython-3.5.1.amd64\\python-3.5.1.amd64\\..\\tools\\R-3.2.3-win.exe\n"
     ]
    }
   ],
   "source": [
    "# checking it's the official R-3.2.3 \n",
    "import hashlib\n",
    "def give_hash(of_file, with_this):\n",
    "    with io.open(r_installer, 'rb') as f:\n",
    "        return with_this(f.read()).hexdigest()  \n",
    "print (\" \"*12+\"MD5\"+\" \"*(32-12-3)+\" \"+\" \"*15+\"SHA-1\"+\" \"*(40-15-5)+\"\\n\"+\"-\"*32+\" \"+\"-\"*40)\n",
    "\n",
    "print (\"%s %s %s\" % (give_hash(r_installer, hashlib.md5) , give_hash(r_installer, hashlib.sha1),r_installer))\n",
    "assert give_hash(r_installer, hashlib.md5) == hashes[0]\n",
    "assert give_hash(r_installer, hashlib.sha1) == hashes[1]"
   ]
  },
  {
   "cell_type": "code",
   "execution_count": 6,
   "metadata": {
    "collapsed": false
   },
   "outputs": [],
   "source": [
    "# let's install it \n",
    "# If you are \"USB life style\", or multi-winpython\n",
    "#   ==> CLICK the OPTION \"Don't create a StartMenuFolder' <== (when it will show up)\n",
    "os.environ[\"tmp_R_comp\"]=r_comp\n",
    "!start cmd /C %r_installer% /DIR=%tmp_Rbase% %tmp_R_comp%"
   ]
  },
  {
   "cell_type": "markdown",
   "metadata": {},
   "source": [
    "## During Installation (if you wan't to move the R installation after)\n",
    "\n",
    "\n",
    "Select  \"Don't create a Start Menu Folder\"\n",
    "\n",
    "Un-select \"Create a desktop icon\"\n",
    "\n",
    "Un-select \"Save version number in registery\"\n"
   ]
  },
  {
   "cell_type": "markdown",
   "metadata": {},
   "source": [
    "<img src=\"https://raw.githubusercontent.com/stonebig/winpython_afterdoc/master/examples/images/r_setup_unclick_shortcut.GIF\">"
   ]
  },
  {
   "cell_type": "markdown",
   "metadata": {},
   "source": [
    "### 2 - create a R_launcher and install irkernel"
   ]
  },
  {
   "cell_type": "code",
   "execution_count": 7,
   "metadata": {
    "collapsed": false
   },
   "outputs": [],
   "source": [
    "import os\n",
    "import sys\n",
    "import io\n",
    "# let's create a R launcher  \n",
    "r_launcher = r\"\"\"\n",
    "@echo off\n",
    "call %~dp0env.bat\n",
    "rscript %*\n",
    "\"\"\"\n",
    "r_launcher_bat = os.environ[\"WINPYDIR\"]+\"\\\\..\\\\scripts\\\\R_launcher.bat\"\n",
    "\n",
    "# let's create a R init script\n",
    "# in manual command line, you can use repos = c('http://irkernel.github.io/', getOption('repos'))\n",
    "r_initialization = r\"\"\"\n",
    "install.packages(c('rzmq','repr','IRkernel','IRdisplay'), repos = c('http://irkernel.github.io/', repos='http://cran.rstudio.com/'))\n",
    "library('rzmq')\n",
    "library('repr')\n",
    "library('IRkernel')\n",
    "library('IRdisplay')\n",
    "IRkernel::installspec()\n",
    "\"\"\"\n",
    "r_initialization_r = os.path.normpath(os.environ[\"WINPYDIR\"]+\"\\\\..\\\\scripts\\\\R_initialization.r\")\n",
    "\n",
    "\n",
    "for i in [(r_launcher,r_launcher_bat), (r_initialization, r_initialization_r)]:\n",
    "    with io.open(i[1], 'w', encoding = sys.getdefaultencoding() ) as f:\n",
    "        for line in i[0].splitlines():\n",
    "            f.write('%s\\n' %  line  )\n"
   ]
  },
  {
   "cell_type": "code",
   "execution_count": 8,
   "metadata": {
    "collapsed": false
   },
   "outputs": [],
   "source": [
    "# Launch Rkernel setup\n",
    "os.environ[\"r_initialization_r\"] = r_initialization_r\n",
    "!start cmd /C %WINPYDIR%\\\\..\\\\scripts\\\\R_launcher.bat --no-restore --no-save  %r_initialization_r%  "
   ]
  },
  {
   "cell_type": "code",
   "execution_count": 9,
   "metadata": {
    "collapsed": false
   },
   "outputs": [
    {
     "name": "stdout",
     "output_type": "stream",
     "text": [
      "patching  D:\\result_tests\\winpython-3.5.1.amd64\\settings\\kernels\\ir\\kernel.json from D:/result_tests/winpython-3.5.1.amd64 to {prefix}/..\n"
     ]
    }
   ],
   "source": [
    "# make RKernel a movable installation with the rest of WinPython \n",
    "from winpython import utils\n",
    "base_winpython = os.path.dirname(os.path.normpath(os.environ[\"WINPYDIR\"]))\n",
    "rkernel_json=(base_winpython+\"\\\\settings\\\\kernels\\\\ir\\\\kernel.json\")\n",
    "\n",
    "# so we get \"argv\": [\"{prefix}/../tools/R/bin/x64/R\"\n",
    "utils.patch_sourcefile(rkernel_json, base_winpython.replace(\"\\\\\",\"/\"), r'{prefix}/..', silent_mode=False)"
   ]
  },
  {
   "cell_type": "markdown",
   "metadata": {
    "collapsed": false
   },
   "source": [
    "### 3- Install a R package via a IPython  Kernel"
   ]
  },
  {
   "cell_type": "code",
   "execution_count": 10,
   "metadata": {
    "collapsed": false
   },
   "outputs": [],
   "source": [
    "%load_ext rpy2.ipython\n",
    "\n",
    "#vitals: 'dplyr', 'R.utils', 'nycflights13'\n",
    "# installation takes 2 minutes\n",
    "%R install.packages(c('dplyr','R.utils', 'nycflights13'), repos='http://cran.rstudio.com/') "
   ]
  },
  {
   "cell_type": "markdown",
   "metadata": {},
   "source": [
    "### 4- Small demo via R magic"
   ]
  },
  {
   "cell_type": "code",
   "execution_count": 11,
   "metadata": {
    "collapsed": false
   },
   "outputs": [
    {
     "name": "stdout",
     "output_type": "stream",
     "text": [
      "The rpy2.ipython extension is already loaded. To reload it, use:\n",
      "  %reload_ext rpy2.ipython\n"
     ]
    }
   ],
   "source": [
    "%load_ext rpy2.ipython"
   ]
  },
  {
   "cell_type": "code",
   "execution_count": 12,
   "metadata": {
    "collapsed": false
   },
   "outputs": [],
   "source": [
    "%%R\n",
    "library('dplyr')\n",
    "library('nycflights13') \n",
    "write.csv(flights, \"flights.csv\")"
   ]
  },
  {
   "cell_type": "code",
   "execution_count": 13,
   "metadata": {
    "collapsed": false
   },
   "outputs": [
    {
     "data": {
      "text/html": [
       "<div>\n",
       "<table border=\"1\" class=\"dataframe\">\n",
       "  <thead>\n",
       "    <tr style=\"text-align: right;\">\n",
       "      <th></th>\n",
       "      <th>year</th>\n",
       "      <th>month</th>\n",
       "      <th>day</th>\n",
       "      <th>dep_time</th>\n",
       "      <th>dep_delay</th>\n",
       "      <th>arr_time</th>\n",
       "      <th>arr_delay</th>\n",
       "      <th>carrier</th>\n",
       "      <th>tailnum</th>\n",
       "      <th>flight</th>\n",
       "      <th>origin</th>\n",
       "      <th>dest</th>\n",
       "      <th>air_time</th>\n",
       "      <th>distance</th>\n",
       "      <th>hour</th>\n",
       "      <th>minute</th>\n",
       "    </tr>\n",
       "  </thead>\n",
       "  <tbody>\n",
       "    <tr>\n",
       "      <th>1</th>\n",
       "      <td>2013</td>\n",
       "      <td>1</td>\n",
       "      <td>1</td>\n",
       "      <td>517</td>\n",
       "      <td>2</td>\n",
       "      <td>830</td>\n",
       "      <td>11</td>\n",
       "      <td>UA</td>\n",
       "      <td>N14228</td>\n",
       "      <td>1545</td>\n",
       "      <td>EWR</td>\n",
       "      <td>IAH</td>\n",
       "      <td>227</td>\n",
       "      <td>1400</td>\n",
       "      <td>5</td>\n",
       "      <td>17</td>\n",
       "    </tr>\n",
       "    <tr>\n",
       "      <th>2</th>\n",
       "      <td>2013</td>\n",
       "      <td>1</td>\n",
       "      <td>1</td>\n",
       "      <td>533</td>\n",
       "      <td>4</td>\n",
       "      <td>850</td>\n",
       "      <td>20</td>\n",
       "      <td>UA</td>\n",
       "      <td>N24211</td>\n",
       "      <td>1714</td>\n",
       "      <td>LGA</td>\n",
       "      <td>IAH</td>\n",
       "      <td>227</td>\n",
       "      <td>1416</td>\n",
       "      <td>5</td>\n",
       "      <td>33</td>\n",
       "    </tr>\n",
       "    <tr>\n",
       "      <th>3</th>\n",
       "      <td>2013</td>\n",
       "      <td>1</td>\n",
       "      <td>1</td>\n",
       "      <td>542</td>\n",
       "      <td>2</td>\n",
       "      <td>923</td>\n",
       "      <td>33</td>\n",
       "      <td>AA</td>\n",
       "      <td>N619AA</td>\n",
       "      <td>1141</td>\n",
       "      <td>JFK</td>\n",
       "      <td>MIA</td>\n",
       "      <td>160</td>\n",
       "      <td>1089</td>\n",
       "      <td>5</td>\n",
       "      <td>42</td>\n",
       "    </tr>\n",
       "    <tr>\n",
       "      <th>4</th>\n",
       "      <td>2013</td>\n",
       "      <td>1</td>\n",
       "      <td>1</td>\n",
       "      <td>544</td>\n",
       "      <td>-1</td>\n",
       "      <td>1004</td>\n",
       "      <td>-18</td>\n",
       "      <td>B6</td>\n",
       "      <td>N804JB</td>\n",
       "      <td>725</td>\n",
       "      <td>JFK</td>\n",
       "      <td>BQN</td>\n",
       "      <td>183</td>\n",
       "      <td>1576</td>\n",
       "      <td>5</td>\n",
       "      <td>44</td>\n",
       "    </tr>\n",
       "    <tr>\n",
       "      <th>5</th>\n",
       "      <td>2013</td>\n",
       "      <td>1</td>\n",
       "      <td>1</td>\n",
       "      <td>554</td>\n",
       "      <td>-6</td>\n",
       "      <td>812</td>\n",
       "      <td>-25</td>\n",
       "      <td>DL</td>\n",
       "      <td>N668DN</td>\n",
       "      <td>461</td>\n",
       "      <td>LGA</td>\n",
       "      <td>ATL</td>\n",
       "      <td>116</td>\n",
       "      <td>762</td>\n",
       "      <td>5</td>\n",
       "      <td>54</td>\n",
       "    </tr>\n",
       "    <tr>\n",
       "      <th>6</th>\n",
       "      <td>2013</td>\n",
       "      <td>1</td>\n",
       "      <td>1</td>\n",
       "      <td>554</td>\n",
       "      <td>-4</td>\n",
       "      <td>740</td>\n",
       "      <td>12</td>\n",
       "      <td>UA</td>\n",
       "      <td>N39463</td>\n",
       "      <td>1696</td>\n",
       "      <td>EWR</td>\n",
       "      <td>ORD</td>\n",
       "      <td>150</td>\n",
       "      <td>719</td>\n",
       "      <td>5</td>\n",
       "      <td>54</td>\n",
       "    </tr>\n",
       "  </tbody>\n",
       "</table>\n",
       "</div>"
      ],
      "text/plain": [
       "   year  month  day  dep_time  dep_delay  arr_time  arr_delay carrier tailnum  \\\n",
       "1  2013      1    1       517          2       830         11      UA  N14228   \n",
       "2  2013      1    1       533          4       850         20      UA  N24211   \n",
       "3  2013      1    1       542          2       923         33      AA  N619AA   \n",
       "4  2013      1    1       544         -1      1004        -18      B6  N804JB   \n",
       "5  2013      1    1       554         -6       812        -25      DL  N668DN   \n",
       "6  2013      1    1       554         -4       740         12      UA  N39463   \n",
       "\n",
       "   flight origin dest  air_time  distance  hour  minute  \n",
       "1    1545    EWR  IAH       227      1400     5      17  \n",
       "2    1714    LGA  IAH       227      1416     5      33  \n",
       "3    1141    JFK  MIA       160      1089     5      42  \n",
       "4     725    JFK  BQN       183      1576     5      44  \n",
       "5     461    LGA  ATL       116       762     5      54  \n",
       "6    1696    EWR  ORD       150       719     5      54  "
      ]
     },
     "execution_count": 13,
     "metadata": {},
     "output_type": "execute_result"
    }
   ],
   "source": [
    "%R head(flights) "
   ]
  },
  {
   "cell_type": "code",
   "execution_count": 14,
   "metadata": {
    "collapsed": false
   },
   "outputs": [
    {
     "data": {
      "text/html": [
       "<div>\n",
       "<table border=\"1\" class=\"dataframe\">\n",
       "  <thead>\n",
       "    <tr style=\"text-align: right;\">\n",
       "      <th></th>\n",
       "      <th>faa</th>\n",
       "      <th>name</th>\n",
       "      <th>lat</th>\n",
       "      <th>lon</th>\n",
       "      <th>alt</th>\n",
       "      <th>tz</th>\n",
       "      <th>dst</th>\n",
       "      <th>dest</th>\n",
       "    </tr>\n",
       "  </thead>\n",
       "  <tbody>\n",
       "    <tr>\n",
       "      <th>1</th>\n",
       "      <td>IAH</td>\n",
       "      <td>George Bush Intercontinental</td>\n",
       "      <td>29.984433</td>\n",
       "      <td>-95.341442</td>\n",
       "      <td>97</td>\n",
       "      <td>-6</td>\n",
       "      <td>A</td>\n",
       "      <td>IAH</td>\n",
       "    </tr>\n",
       "    <tr>\n",
       "      <th>2</th>\n",
       "      <td>MIA</td>\n",
       "      <td>Miami Intl</td>\n",
       "      <td>25.793250</td>\n",
       "      <td>-80.290556</td>\n",
       "      <td>8</td>\n",
       "      <td>-5</td>\n",
       "      <td>A</td>\n",
       "      <td>MIA</td>\n",
       "    </tr>\n",
       "    <tr>\n",
       "      <th>3</th>\n",
       "      <td>ATL</td>\n",
       "      <td>Hartsfield Jackson Atlanta Intl</td>\n",
       "      <td>33.636719</td>\n",
       "      <td>-84.428067</td>\n",
       "      <td>1026</td>\n",
       "      <td>-5</td>\n",
       "      <td>A</td>\n",
       "      <td>ATL</td>\n",
       "    </tr>\n",
       "    <tr>\n",
       "      <th>4</th>\n",
       "      <td>ORD</td>\n",
       "      <td>Chicago Ohare Intl</td>\n",
       "      <td>41.978603</td>\n",
       "      <td>-87.904842</td>\n",
       "      <td>668</td>\n",
       "      <td>-6</td>\n",
       "      <td>A</td>\n",
       "      <td>ORD</td>\n",
       "    </tr>\n",
       "    <tr>\n",
       "      <th>5</th>\n",
       "      <td>FLL</td>\n",
       "      <td>Fort Lauderdale Hollywood Intl</td>\n",
       "      <td>26.072583</td>\n",
       "      <td>-80.152750</td>\n",
       "      <td>9</td>\n",
       "      <td>-5</td>\n",
       "      <td>A</td>\n",
       "      <td>FLL</td>\n",
       "    </tr>\n",
       "    <tr>\n",
       "      <th>6</th>\n",
       "      <td>IAD</td>\n",
       "      <td>Washington Dulles Intl</td>\n",
       "      <td>38.944533</td>\n",
       "      <td>-77.455811</td>\n",
       "      <td>313</td>\n",
       "      <td>-5</td>\n",
       "      <td>A</td>\n",
       "      <td>IAD</td>\n",
       "    </tr>\n",
       "  </tbody>\n",
       "</table>\n",
       "</div>"
      ],
      "text/plain": [
       "   faa                             name        lat        lon   alt  tz dst  \\\n",
       "1  IAH     George Bush Intercontinental  29.984433 -95.341442    97  -6   A   \n",
       "2  MIA                       Miami Intl  25.793250 -80.290556     8  -5   A   \n",
       "3  ATL  Hartsfield Jackson Atlanta Intl  33.636719 -84.428067  1026  -5   A   \n",
       "4  ORD               Chicago Ohare Intl  41.978603 -87.904842   668  -6   A   \n",
       "5  FLL   Fort Lauderdale Hollywood Intl  26.072583 -80.152750     9  -5   A   \n",
       "6  IAD           Washington Dulles Intl  38.944533 -77.455811   313  -5   A   \n",
       "\n",
       "  dest  \n",
       "1  IAH  \n",
       "2  MIA  \n",
       "3  ATL  \n",
       "4  ORD  \n",
       "5  FLL  \n",
       "6  IAD  "
      ]
     },
     "execution_count": 14,
     "metadata": {},
     "output_type": "execute_result"
    }
   ],
   "source": [
    "%R airports %>% mutate(dest = faa) %>% semi_join(flights) %>% head"
   ]
  },
  {
   "cell_type": "markdown",
   "metadata": {},
   "source": [
    "### 5 - Installing the very best of R pakages (optional, you will start to get a really big directory)\n"
   ]
  },
  {
   "cell_type": "code",
   "execution_count": 15,
   "metadata": {
    "collapsed": true
   },
   "outputs": [],
   "source": [
    "# essentials: 'tidyr', 'shiny', 'ggplot2', 'caret' , 'nnet'  \n",
    "# remaining of Hadley Wickahm \"stack\" (https://github.com/rstudio)\n",
    "%R install.packages(c('tidyr', 'ggplot2',  'shiny','caret' , 'nnet'), repos='https://cran.rstudio.com/') \n",
    "%R install.packages(c('knitr', 'purrr', 'readr', 'readxl'), repos='https://cran.rstudio.com/')\n",
    "%R install.packages(c('rvest', 'lubridate', 'ggvis'), repos='https://cran.rstudio.com/')\n",
    "\n",
    "# TRAINING = online training book http://r4ds.had.co.nz/ (or https://github.com/hadley/r4ds)"
   ]
  },
  {
   "cell_type": "markdown",
   "metadata": {},
   "source": [
    "### 6 - Relaunch Jupyter Notebook to get a R kernel option\n",
    "launch a new notebook of \"R\" type, and type in it:\n",
    "    \n",
    "library('dplyr')\n",
    "\n",
    "library('nycflights13') \n",
    "\n",
    "head('flights')"
   ]
  },
  {
   "cell_type": "markdown",
   "metadata": {},
   "source": [
    "### 9 - To Un-install  / Re-install R (or other trouble-shooting)\n",
    "\n",
    "- launch  winpython**\\tools\\R\\unins000.exe\n",
    "\n",
    "- delete the directory winpython**\\tools\\R\n",
    "\n",
    "- re-install\n"
   ]
  },
  {
   "cell_type": "code",
   "execution_count": null,
   "metadata": {
    "collapsed": true
   },
   "outputs": [],
   "source": []
  }
 ],
 "metadata": {
  "kernelspec": {
   "display_name": "Python 3",
   "language": "python",
   "name": "python3"
  },
  "language_info": {
   "codemirror_mode": {
    "name": "ipython",
    "version": 3
   },
   "file_extension": ".py",
   "mimetype": "text/x-python",
   "name": "python",
   "nbconvert_exporter": "python",
   "pygments_lexer": "ipython3",
   "version": "3.5.1"
  }
 },
 "nbformat": 4,
 "nbformat_minor": 0
}
