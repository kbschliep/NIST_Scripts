{
 "cells": [
  {
   "cell_type": "code",
   "execution_count": 6,
   "metadata": {},
   "outputs": [
    {
     "name": "stdout",
     "output_type": "stream",
     "text": [
      "%!PS-Adobe-3.0\n",
      "save\n",
      "/showpage { } def\n",
      "%%EndComments\n",
      "%%BeginDocument\n",
      "/S { show } bind def\n",
      "/P { moveto show } bind def\n",
      "/M { moveto } bind def\n",
      "/X { 0 rmoveto } bind def\n",
      "/Y { 0 exch rmoveto } bind def\n",
      "/E {    findfont\n",
      "        dup maxlength dict begin\n",
      "        {\n",
      "                1 index /FID ne { def } { pop pop } ifelse\n",
      "        } forall\n",
      "        /Encoding exch def\n",
      "        dup /FontName exch def\n",
      "        currentdict end definefont pop\n",
      "} bind def\n",
      "/F {    findfont exch scalefont dup setfont\n",
      "        [ exch /setfont cvx ] cvx bind def\n",
      "} bind def\n",
      "/Vm { moveto } bind def\n",
      "/Va { newpath arcn stroke } bind def\n",
      "/Vl { moveto lineto stroke } bind def\n",
      "/Vc { newpath 0 360 arc closepath } bind def\n",
      "/Vr {   exch dup 0 rlineto\n",
      "        exch dup neg 0 exch rlineto\n",
      "        exch neg 0 rlineto\n",
      "        0 exch rlineto\n",
      "        100 div setgray fill 0 setgray } bind def\n",
      "/Tm matrix def\n",
      "/Ve {   Tm currentmatrix pop\n",
      "        translate scale newpath 0 0 .5 0 360 arc closepath\n",
      "        Tm setmatrix\n",
      "} bind def\n",
      "/Vf { currentgray exch setgray fill setgray } bind def\n",
      "%%EndProlog\n",
      "gsave\n",
      "72.000000 270.000000 translate\n",
      "0.421875 0.421875 scale\n",
      "gsave\n",
      "10 dict begin\n",
      "/buf 3072 string def\n",
      "1024 768 scale\n",
      "1024 768 8\n",
      "[1024 0 0 -768 0 768]\n",
      "{ currentfile buf readhexstring pop } bind\n",
      "false 3 colorimage\n",
      "\n",
      "%%%%EndBinary\n",
      "grestore end\n",
      "\n",
      "grestore\n",
      "72 144 M 504 720 0 Vr\n",
      "/PSDraw-HelveticaNarrow-Bold ISOLatin1Encoding /HelveticaNarrow-Bold E\n",
      "/F0 36 /PSDraw-HelveticaNarrow-Bold F\n",
      "216 288 M (hopper) S\n",
      "%%EndDocument\n",
      "restore showpage\n",
      "%%End\n"
     ]
    }
   ],
   "source": [
    "from PIL import Image\n",
    "from PIL import PSDraw\n",
    "\n",
    "im = Image.open(\"Chrysanthemum.jpg\")\n",
    "title = \"hopper\"\n",
    "box = (1*72, 2*72, 7*72, 10*72) # in points\n",
    "\n",
    "ps = PSDraw.PSDraw() # default is sys.stdout\n",
    "ps.begin_document(title)\n",
    "\n",
    "# draw the image (75 dpi)\n",
    "ps.image(box, im, 75)\n",
    "ps.rectangle(box)\n",
    "\n",
    "# draw title\n",
    "ps.setfont(\"HelveticaNarrow-Bold\", 36)\n",
    "ps.text((3*72, 4*72), title)\n",
    "\n",
    "ps.end_document()"
   ]
  },
  {
   "cell_type": "code",
   "execution_count": 5,
   "metadata": {},
   "outputs": [
    {
     "data": {
      "text/plain": [
       "['',\n",
       " 'C:\\\\Users\\\\kbs1\\\\Documents\\\\HyperSpy WinPython Bundle v1.3.0\\\\python-3.5.1.amd64\\\\python35.zip',\n",
       " 'C:\\\\Users\\\\kbs1\\\\Documents\\\\HyperSpy WinPython Bundle v1.3.0\\\\python-3.5.1.amd64\\\\DLLs',\n",
       " 'C:\\\\Users\\\\kbs1\\\\Documents\\\\HyperSpy WinPython Bundle v1.3.0\\\\python-3.5.1.amd64\\\\lib',\n",
       " 'C:\\\\Users\\\\kbs1\\\\Documents\\\\HyperSpy WinPython Bundle v1.3.0\\\\python-3.5.1.amd64',\n",
       " 'C:\\\\Users\\\\kbs1\\\\Documents\\\\HyperSpy WinPython Bundle v1.3.0\\\\python-3.5.1.amd64\\\\lib\\\\site-packages',\n",
       " 'C:\\\\Users\\\\kbs1\\\\Documents\\\\HyperSpy WinPython Bundle v1.3.0\\\\python-3.5.1.amd64\\\\lib\\\\site-packages\\\\win32',\n",
       " 'C:\\\\Users\\\\kbs1\\\\Documents\\\\HyperSpy WinPython Bundle v1.3.0\\\\python-3.5.1.amd64\\\\lib\\\\site-packages\\\\win32\\\\lib',\n",
       " 'C:\\\\Users\\\\kbs1\\\\Documents\\\\HyperSpy WinPython Bundle v1.3.0\\\\python-3.5.1.amd64\\\\lib\\\\site-packages\\\\Pythonwin',\n",
       " 'C:\\\\Users\\\\kbs1\\\\Documents\\\\HyperSpy WinPython Bundle v1.3.0\\\\python-3.5.1.amd64\\\\lib\\\\site-packages\\\\IPython\\\\extensions',\n",
       " 'C:\\\\Users\\\\kbs1\\\\Documents\\\\HyperSpy WinPython Bundle v1.3.0\\\\settings\\\\.ipython']"
      ]
     },
     "execution_count": 5,
     "metadata": {},
     "output_type": "execute_result"
    }
   ],
   "source": [
    "import sys\n",
    "sys.path"
   ]
  },
  {
   "cell_type": "code",
   "execution_count": 11,
   "metadata": {},
   "outputs": [],
   "source": [
    "## Packages\n",
    "'''Import all the necessary packages and modules'''\n",
    "\n",
    "\n",
    "%matplotlib qt4 \n",
    "#uses matplotlib qt4 interface\n",
    "\n",
    "import hyperspy.api as hs #call hyperspy by hs\n",
    "hs.preferences.gui(toolkit=\"traitsui\") #opens traitsui preference window\n",
    "from scipy import signal\n",
    "import scipy as sp\n",
    "import numpy as np # package for playing with matrices\n",
    "import matplotlib.pyplot as plt\n",
    "import pandas as pd # package for math\n",
    "import sys, os # python modules for interacting with computer\n",
    "from tkinter import filedialog # interface for opening a file explorer\n",
    "from tkinter import * # * imports all files in tkinter \n",
    "from tqdm import tqdm\n",
    "from skimage.morphology import extrema"
   ]
  },
  {
   "cell_type": "code",
   "execution_count": 13,
   "metadata": {
    "collapsed": true
   },
   "outputs": [],
   "source": [
    "def local_mean(matrix, x_axis, y_axis, size):\n",
    "    local_data=[]\n",
    "    numb=[]\n",
    "    nsize=matrix.shape[0]-1\n",
    "    msize=matrix.shape[1]-1\n",
    "    for n in range(-size, size+1,1) :\n",
    "        for m in range(-size, size+1,1):\n",
    "            if m==0 and n==0:\n",
    "                continue\n",
    "                \n",
    "            if  x_axis+n>=nsize and   y_axis+m>=msize:  #Cycles around far corner back to 0,0 for arbitrary size\n",
    "                k = (x_axis+n) \n",
    "                k = k % nsize\n",
    "                l = (y_axis+m) \n",
    "                l = l % msize\n",
    "                local_data.append(matrix[k, l])\n",
    "                numb.append([k, l])\n",
    "                continue\n",
    "            \n",
    "            if x_axis+n>=nsize:\n",
    "                k = x_axis+n \n",
    "                k = k% nsize\n",
    "                local_data.append(matrix[k, y_axis + m])\n",
    "                numb.append([k,y_axis + m])\n",
    "                continue\n",
    "            if   y_axis+m>=msize:\n",
    "                l = (y_axis+m) \n",
    "                l = l % msize\n",
    "                local_data.append(matrix[x_axis +n, l])\n",
    "                numb.append([x_axis, l])\n",
    "                continue\n",
    "          \n",
    "            local_data.append(matrix[x_axis+n,y_axis+m])\n",
    "            numb.append([x_axis+n,y_axis+m])\n",
    "            \n",
    "        \n",
    "    loc_mean=np.mean(local_data)        \n",
    "        \n",
    "    return loc_mean\n",
    "  "
   ]
  },
  {
   "cell_type": "code",
   "execution_count": 29,
   "metadata": {},
   "outputs": [],
   "source": [
    "data=np.random.rand(5,5) #used for testing purposes\n",
    "data[3,3] = 50\n",
    "data[0,0] = -1\n",
    "data1=data\n",
    "data2=data\n",
    "lower = extrema.local_minima(data1)\n",
    "upper = extrema.local_maxima(data1)\n",
    "c, d = np.where(lower), np.where(upper) # gets indexes of where upper and lower are true\n",
    "a, b = np.transpose(c), np.transpose(d) # rather than array [ x values] , array [y- values] gives array [x,y]\n",
    "N=2\n",
    "\n",
    "for [i,j] in a: # looks at positions where true only - faster than looking at all values      \n",
    "    loc_mean=local_mean(data1, i, j, N)\n",
    "    data1[i,j] = loc_mean # replaces all values where true with the local mean\n",
    "\n",
    "for i,j in b:\n",
    "    loc_mean=local_mean(data1, i, j, N)       \n",
    "    data1[i,j] = loc_mean # replaces all values where true with the local mean\n",
    "\n",
    "data5 = data1\n",
    "    \n",
    "# data=hs.signals.Signal2D(data)  #Converts data back to a Signal2D so hyperspy will work for it\n",
    "# data2=hs.signals.Signal2D(data2)"
   ]
  },
  {
   "cell_type": "code",
   "execution_count": 33,
   "metadata": {},
   "outputs": [
    {
     "data": {
      "text/plain": [
       "1.2151782413819185"
      ]
     },
     "execution_count": 33,
     "metadata": {},
     "output_type": "execute_result"
    }
   ],
   "source": [
    "loc_mean"
   ]
  },
  {
   "cell_type": "code",
   "execution_count": 34,
   "metadata": {},
   "outputs": [
    {
     "data": {
      "text/plain": [
       "1.2151782413819185"
      ]
     },
     "execution_count": 34,
     "metadata": {},
     "output_type": "execute_result"
    }
   ],
   "source": [
    "data5[3,3]"
   ]
  },
  {
   "cell_type": "code",
   "execution_count": 20,
   "metadata": {},
   "outputs": [
    {
     "data": {
      "text/plain": [
       "array([[0, 0],\n",
       "       [0, 3],\n",
       "       [2, 2],\n",
       "       [4, 2],\n",
       "       [4, 4]], dtype=int64)"
      ]
     },
     "execution_count": 20,
     "metadata": {},
     "output_type": "execute_result"
    }
   ],
   "source": [
    "a"
   ]
  },
  {
   "cell_type": "code",
   "execution_count": 21,
   "metadata": {},
   "outputs": [
    {
     "data": {
      "text/plain": [
       "array([[1, 1],\n",
       "       [1, 3],\n",
       "       [3, 0]], dtype=int64)"
      ]
     },
     "execution_count": 21,
     "metadata": {},
     "output_type": "execute_result"
    }
   ],
   "source": [
    "b"
   ]
  },
  {
   "cell_type": "code",
   "execution_count": 22,
   "metadata": {},
   "outputs": [
    {
     "data": {
      "text/plain": [
       "3.4154659490794343"
      ]
     },
     "execution_count": 22,
     "metadata": {},
     "output_type": "execute_result"
    }
   ],
   "source": [
    "loc_mean"
   ]
  },
  {
   "cell_type": "code",
   "execution_count": null,
   "metadata": {
    "collapsed": true
   },
   "outputs": [],
   "source": []
  }
 ],
 "metadata": {
  "kernelspec": {
   "display_name": "Python 3",
   "language": "python",
   "name": "python3"
  },
  "language_info": {
   "codemirror_mode": {
    "name": "ipython",
    "version": 3
   },
   "file_extension": ".py",
   "mimetype": "text/x-python",
   "name": "python",
   "nbconvert_exporter": "python",
   "pygments_lexer": "ipython3",
   "version": "3.5.4"
  }
 },
 "nbformat": 4,
 "nbformat_minor": 2
}
