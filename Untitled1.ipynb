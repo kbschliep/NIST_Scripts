{
 "cells": [
  {
   "cell_type": "code",
   "execution_count": null,
   "metadata": {
    "collapsed": true
   },
   "outputs": [],
   "source": [
    "%matplotlib qt4 \n",
    "#uses matplotlib qt4 interface\n",
    "\n",
    "import hyperspy.api as hs #call hyperspy by hs\n",
    "# hs.preferences.gui() #opens traitsui preference window\n",
    "\n",
    "from scipy import signal\n",
    "import numpy as np # package for playing with matrices\n",
    "import matplotlib.pyplot as plt\n",
    "import pandas as pd # package for math\n",
    "import sys, os # python modules for interacting with computer\n",
    "from tkinter import filedialog # interface for opening a file explorer\n",
    "from tkinter import * # * imports all files in tkinter "
   ]
  },
  {
   "cell_type": "code",
   "execution_count": null,
   "metadata": {
    "collapsed": true
   },
   "outputs": [],
   "source": [
    "data=np.random.rand(3,4)\n",
    "print(data)\n",
    "n=data.shape[2]\n",
    "m=data.shape[1]\n",
    "z=data.shape[0]\n",
    "n , m , z\n",
    "#A=np.linspace(0,data.size[0]-1,)\n",
    "#print(A)"
   ]
  },
  {
   "cell_type": "code",
   "execution_count": null,
   "metadata": {
    "collapsed": true
   },
   "outputs": [],
   "source": [
    "def translation_matrix(direction):\n",
    " \n",
    "    M = np.identity(3)\n",
    "    M[:2, 2] = direction[:2]\n",
    "    return M"
   ]
  },
  {
   "cell_type": "code",
   "execution_count": null,
   "metadata": {
    "collapsed": true
   },
   "outputs": [],
   "source": [
    "B=translation_matrix([1,1])\n",
    "print(B)\n",
    "\n",
    "C=A.dot(B)\n",
    "print(C)"
   ]
  },
  {
   "cell_type": "code",
   "execution_count": null,
   "metadata": {
    "collapsed": true
   },
   "outputs": [],
   "source": [
    "N=2\n",
    "subdataim = []\n",
    "subdataip = []\n",
    "subdatajm = []\n",
    "subdatajp = []\n",
    "subdatajimm = []\n",
    "subdatajimp = []\n",
    "subdatajipm = []\n",
    "subdatajipp = []\n",
    "for t in range(0,z-1):\n",
    "    for i in range(0,n-1):\n",
    "        for j in range(0,m-1):\n",
    "#             if (j-N<=0) or (j+N>=m) or (i-N<=0) or (i+N>=n):\n",
    "#                 print('ok')\n",
    "            \n",
    "#             else:\n",
    "            \n",
    "                for s in range(1,N):\n",
    "                    subdataim.append(data[t,j,i-s])\n",
    "                    subdataip.append(data[t,j,i+s]) \n",
    "                    subdatajm.append(data[t,j-s,i]) \n",
    "                    subdatajp.append(data[t,j+s,i])\n",
    "                    subdatajimm.append(data[t,j-s,i-s]) \n",
    "                    subdatajimp.append(data[t,j-s,i+s])\n",
    "                    subdatajipm.append(data[t,j+s,i-s]) \n",
    "                    subdatajipp.append(data[t,j+s,i+s])\n",
    "            \n",
    "#         subdata_mean= mean \n",
    "#             if data[t,j,i]>\n",
    "#         Outliers(z) = data[t, j, i]"
   ]
  },
  {
   "cell_type": "code",
   "execution_count": null,
   "metadata": {
    "collapsed": true
   },
   "outputs": [],
   "source": [
    "outliers = [x for x in data if np.all(x>.5)]\n",
    "outliers"
   ]
  },
  {
   "cell_type": "code",
   "execution_count": null,
   "metadata": {
    "collapsed": true
   },
   "outputs": [],
   "source": [
    "##'''Getting data directory so data can easily be imported using this format data = hs.load('*.dm3', stack=True) to import all dm3s in folder as a stack'''\n",
    "\n",
    "root = Tk() # Tk() is a function in tkinter that opens a window\n",
    "root.directory = filedialog.askdirectory() # opens explorer window so you can find the folder of choice\n",
    "root.withdraw() # closes the tkinter window since it's unnecessary\n",
    "oldcwd = os.getcwd() # saves old called working directory (place where data is drawn from) as oldcwd use os.chdir(oldcwd) to go back\n",
    "os.chdir(root.directory) # sets new directory\n",
    "newcwd = os.getcwd() # saves new directory name as newcwd"
   ]
  },
  {
   "cell_type": "code",
   "execution_count": null,
   "metadata": {
    "collapsed": true
   },
   "outputs": [],
   "source": [
    "subdataim"
   ]
  },
  {
   "cell_type": "code",
   "execution_count": null,
   "metadata": {
    "collapsed": true
   },
   "outputs": [],
   "source": [
    "inds = np.arange( len(data[1, 1, 1]) )[ data < .5]"
   ]
  },
  {
   "cell_type": "code",
   "execution_count": null,
   "metadata": {
    "collapsed": true
   },
   "outputs": [],
   "source": [
    "data_bool=(data>0.5)\n",
    "inds = [i for i in data for i in data_bool if data_bool]\n",
    "print(data_bool)\n",
    "inds"
   ]
  },
  {
   "cell_type": "code",
   "execution_count": null,
   "metadata": {
    "collapsed": true
   },
   "outputs": [],
   "source": [
    "a = [1,2,3,1,2,3,1,2,3]\n",
    "list(enumerate(a))\n"
   ]
  },
  {
   "cell_type": "code",
   "execution_count": null,
   "metadata": {
    "collapsed": true
   },
   "outputs": [],
   "source": [
    "enumerate(data_bool)"
   ]
  },
  {
   "cell_type": "code",
   "execution_count": null,
   "metadata": {
    "collapsed": true
   },
   "outputs": [],
   "source": [
    "inds[data_bool]=0"
   ]
  },
  {
   "cell_type": "code",
   "execution_count": null,
   "metadata": {
    "collapsed": true
   },
   "outputs": [],
   "source": [
    "data1=np.array(data)\n",
    "inds = np.where(data>=.5)\n",
    "print(inds)"
   ]
  },
  {
   "cell_type": "code",
   "execution_count": null,
   "metadata": {
    "collapsed": true
   },
   "outputs": [],
   "source": [
    "# finds all occurrences - Doesn't work for matrix\n",
    "data=np.random.rand(3,4)\n",
    "val=data>.5\n",
    "found = []\n",
    "for i,j in enumerate(data):\n",
    "   for k,l in enumerate(j):\n",
    "     if l==val:\n",
    "\n",
    "            found.append((i,k))"
   ]
  },
  {
   "cell_type": "code",
   "execution_count": null,
   "metadata": {
    "collapsed": true
   },
   "outputs": [],
   "source": [
    "## Plots a matrix as an image in a figure - very slow\n",
    "\n",
    "fig, ax = plt.subplots()\n",
    "data=np.random.rand(2048,2048)\n",
    "\n",
    "a=ax.matshow(data, cmap=plt.cm.Greys)\n",
    "\n",
    "for i in range(2048):\n",
    "    for j in range(2048):\n",
    "        c = round(data[j,i],2)\n",
    "        ax.text(i, j, str(c), va='center', ha='center')"
   ]
  },
  {
   "cell_type": "code",
   "execution_count": null,
   "metadata": {
    "collapsed": true
   },
   "outputs": [],
   "source": [
    "fig"
   ]
  },
  {
   "cell_type": "code",
   "execution_count": null,
   "metadata": {
    "collapsed": true
   },
   "outputs": [],
   "source": [
    "data=np.random.rand(3,4)\n",
    "print(data)\n",
    "print(intersection_matrix)\n",
    "\n",
    "a=ax.matshow(data, cmap=plt.cm.Greys)"
   ]
  },
  {
   "cell_type": "code",
   "execution_count": null,
   "metadata": {
    "collapsed": true
   },
   "outputs": [],
   "source": [
    "intersection_matrix"
   ]
  },
  {
   "cell_type": "code",
   "execution_count": null,
   "metadata": {
    "collapsed": true
   },
   "outputs": [],
   "source": [
    "data_bool=np.array(data>0.5)"
   ]
  },
  {
   "cell_type": "code",
   "execution_count": null,
   "metadata": {
    "collapsed": true
   },
   "outputs": [],
   "source": [
    "d=np.where(data_bool)"
   ]
  },
  {
   "cell_type": "code",
   "execution_count": null,
   "metadata": {
    "collapsed": true
   },
   "outputs": [],
   "source": [
    "a=np.transpose(d)"
   ]
  },
  {
   "cell_type": "code",
   "execution_count": null,
   "metadata": {
    "collapsed": true
   },
   "outputs": [],
   "source": [
    "a"
   ]
  },
  {
   "cell_type": "code",
   "execution_count": null,
   "metadata": {
    "collapsed": true
   },
   "outputs": [],
   "source": [
    "data[d]"
   ]
  },
  {
   "cell_type": "code",
   "execution_count": null,
   "metadata": {
    "collapsed": true
   },
   "outputs": [],
   "source": [
    "data"
   ]
  },
  {
   "cell_type": "code",
   "execution_count": null,
   "metadata": {
    "collapsed": true
   },
   "outputs": [],
   "source": [
    "sys.path"
   ]
  },
  {
   "cell_type": "code",
   "execution_count": null,
   "metadata": {
    "collapsed": true
   },
   "outputs": [],
   "source": [
    "## \n",
    "\n",
    "## \n",
    "'''X-ray removal for a single frame - need to make it a 4 loop for all time'''\n",
    "\n",
    "# Gets potential outliers indexes based on percentiles\n",
    "def get_outlier(value, L, U):\n",
    "    \"\"\"Check if value is an outlier based on percentiles\n",
    "    \"\"\"\n",
    "    p25 = np.percentile(value, L)\n",
    "    p75 = np.percentile(value, U)    \n",
    "    \n",
    "    lower = p25 - 1.5 * (p75 - p25)\n",
    "    upper = p75 + 1.5 * (p75 - p25)\n",
    "    loutlier, uoutlier= value <= lower , value>= upper\n",
    "    return loutlier, uoutlier # Give 2 output variables - e.g. lower , upper =is_outlier(data,5,95)\n",
    "\n",
    "def local_mean(matrix, x_axis, y_axis, size):\n",
    "    local_data=[]\n",
    "    numb=[]\n",
    "    nsize=matrix.shape[0]-1\n",
    "    msize=matrix.shape[1]-1\n",
    "    for n in range(-size, size+1,1) :\n",
    "        for m in range(-size, size+1,1):\n",
    "#             print(n,m)\n",
    "            if m==0 and n==0:\n",
    "                continue\n",
    "                \n",
    "            if  x_axis+n>=nsize and   y_axis+m>=msize:\n",
    "#                 print([x_axis+n,y_axis+m],'x1,y1')\n",
    "                k = (x_axis+n) \n",
    "                k = k % nsize\n",
    "                l = (y_axis+m) \n",
    "                l = l % msize\n",
    "                local_data.append(matrix[k, l])\n",
    "                numb.append([k, l])\n",
    "#                 print([k, l],'x2,y2')\n",
    "                continue\n",
    "            \n",
    "            if x_axis+n>=nsize:\n",
    "#                 print([x_axis+n,y_axis+m, nsize],'x1')\n",
    "                k = x_axis+n \n",
    "                k = k% nsize\n",
    "                local_data.append(matrix[k, y_axis + m])\n",
    "#                 print([k,y_axis+m],'x2')\n",
    "                numb.append([k,y_axis + m])\n",
    "                continue\n",
    "            if   y_axis+m>=msize:\n",
    "#                 print([x_axis+n,y_axis+m,msize],'y1')\n",
    "                l = (y_axis+m) \n",
    "                l = l % msize\n",
    "                local_data.append(matrix[x_axis +n, l])\n",
    "                numb.append([x_axis, l])\n",
    "#                 print([x_axis+n,l],'y2')\n",
    "                continue\n",
    "          \n",
    "            \n",
    "#             print([x_axis+n,y_axis+m],'none')\n",
    "            local_data.append(matrix[x_axis+n,y_axis+m])\n",
    "            numb.append([x_axis+n,y_axis+m])\n",
    "            \n",
    "        \n",
    "    loc_mean=np.mean(local_data)        \n",
    "        \n",
    "    return loc_mean\n",
    "\n",
    "def shift_image(im, shift=0, interpolation_order=1, fill_value=np.nan):\n",
    "    if np.any(shift):\n",
    "        fractional, integral = np.modf(shift)\n",
    "        if fractional.any():\n",
    "            order = interpolation_order\n",
    "        else:\n",
    "            # Disable interpolation\n",
    "            order = 0\n",
    "        return sp.ndimage.shift(im, shift, cval=fill_value, order=order)\n",
    "    else:\n",
    "        return im"
   ]
  },
  {
   "cell_type": "code",
   "execution_count": null,
   "metadata": {
    "collapsed": true
   },
   "outputs": [],
   "source": [
    "fig, ax = plt.subplots()\n",
    "\n",
    "a=ax.matshow(data, cmap=plt.cm.Greys)\n",
    "\n",
    "for i in range(2048):\n",
    "    for j in range(2048):\n",
    "        c = round(data[j,i],2)\n",
    "        ax.text(i, j, str(c), va='center', ha='center')"
   ]
  },
  {
   "cell_type": "code",
   "execution_count": null,
   "metadata": {
    "collapsed": true
   },
   "outputs": [],
   "source": [
    "data=hs.load('*.dm3', stack=True)\n",
    "n = np.shape(data)[2] # gives dimension of data (n x m) n = x-axis\n",
    "m = np.shape(data)[1] # gives dimension of data (n x m) m = y-axis\n",
    "z = np.shape(data)[0] # gives dimension of time steps = t-axis\n",
    "#data=np.random.rand(3,4) used for testing purposes\n",
    "\n",
    "s = data.align2D()\n",
    "data = shift_image(data,s)\n"
   ]
  },
  {
   "cell_type": "code",
   "execution_count": null,
   "metadata": {
    "collapsed": true
   },
   "outputs": [],
   "source": [
    "for t in range(0,z):\n",
    "    data1 = np.array(data[t,:,:])\n",
    "    data0=data1\n",
    "    lower, upper = get_outlier(data1,1,99) # sets up 2 truth tables for the positions below lower bound or above upper bound\n",
    "    c, d = np.where(lower), np.where(upper) # gets indexes of where upper and lower are true\n",
    "    a, b = np.transpose(c), np.transpose(d) # rather than array [ x values] , array [y- values] gives array [x,y]\n",
    "    N=5\n",
    "\n",
    "    for [i,j] in a: # looks at positions where true only - faster than looking at all values      \n",
    "        loc_mean=local_mean(data1, i, j, N)\n",
    "        data1[i,j] = loc_mean # replaces all values where true with the local mean\n",
    "\n",
    "    for i,j in b:\n",
    "        loc_mean=local_mean(data1, i, j, N)       \n",
    "        data1[i,j] = loc_mean # replaces all values where true with the local mean\n",
    "\n",
    "            \n",
    "data2 = hs.signals.Signal2D(data1) #Converts data back to a Signal2D so hyperspy will work for it"
   ]
  },
  {
   "cell_type": "code",
   "execution_count": null,
   "metadata": {
    "collapsed": true
   },
   "outputs": [],
   "source": [
    "local_mean(data1,952,449,2)"
   ]
  },
  {
   "cell_type": "code",
   "execution_count": null,
   "metadata": {
    "collapsed": true
   },
   "outputs": [],
   "source": [
    "data.plot()"
   ]
  },
  {
   "cell_type": "code",
   "execution_count": null,
   "metadata": {
    "collapsed": true
   },
   "outputs": [],
   "source": [
    "import image_shift "
   ]
  },
  {
   "cell_type": "code",
   "execution_count": null,
   "metadata": {
    "collapsed": true
   },
   "outputs": [],
   "source": [
    "import hyperspy as hs1 \n",
    "hs1._signals.signal2d.shift_image(data,[0,1])"
   ]
  },
  {
   "cell_type": "code",
   "execution_count": null,
   "metadata": {
    "collapsed": true
   },
   "outputs": [],
   "source": [
    "mmm=[]\n",
    "for ert in range(-1,1,1):\n",
    "    mmm.append(ert)\n",
    "mmm    "
   ]
  },
  {
   "cell_type": "code",
   "execution_count": null,
   "metadata": {
    "collapsed": true
   },
   "outputs": [],
   "source": [
    "np.shape(data)[1]"
   ]
  },
  {
   "cell_type": "code",
   "execution_count": null,
   "metadata": {
    "collapsed": true
   },
   "outputs": [],
   "source": [
    "data2=hs.signals.Signal2D(data1)"
   ]
  },
  {
   "cell_type": "code",
   "execution_count": null,
   "metadata": {
    "collapsed": true
   },
   "outputs": [],
   "source": [
    "data2.plot()"
   ]
  },
  {
   "cell_type": "code",
   "execution_count": null,
   "metadata": {
    "collapsed": true
   },
   "outputs": [],
   "source": [
    "# Find potential outliers in values array\n",
    "# Give 2 output variables - e.g. lower , upper =is_outlier(data,5,95)\n",
    "\n",
    "def is_outlier(value, p25, p75):\n",
    "    \"\"\"Check if value is an outlier\n",
    "    \"\"\"\n",
    "    lower = p25 - 1.5 * (p75 - p25)\n",
    "    upper = p75 + 1.5 * (p75 - p25)\n",
    "    loutlier, uoutlier= value <= lower , value>= upper\n",
    "    return loutlier, uoutlier"
   ]
  },
  {
   "cell_type": "code",
   "execution_count": null,
   "metadata": {
    "collapsed": true
   },
   "outputs": [],
   "source": [
    "data = hs.load(filenames='run4_-15mm_.5mW_9_40000ps_9_9.dm3')\n",
    "data=np.array(data)\n",
    "data1=data"
   ]
  },
  {
   "cell_type": "code",
   "execution_count": null,
   "metadata": {
    "collapsed": true
   },
   "outputs": [],
   "source": [
    "kernel = np.array([[1,1,1],[1,0,1],[1,1,1]])*1/8"
   ]
  },
  {
   "cell_type": "code",
   "execution_count": null,
   "metadata": {
    "collapsed": true
   },
   "outputs": [],
   "source": [
    "conv = signal.convolve2d(data, kernel, boundary='symm', mode='same')"
   ]
  },
  {
   "cell_type": "code",
   "execution_count": null,
   "metadata": {
    "collapsed": true
   },
   "outputs": [],
   "source": [
    "diff = data1-conv\n",
    "diff = hs.signals.Signal2D(diff)\n",
    "diff.plot()"
   ]
  },
  {
   "cell_type": "code",
   "execution_count": null,
   "metadata": {
    "collapsed": true
   },
   "outputs": [],
   "source": [
    "conv = hs.signals.Signal2D(conv)\n",
    "conv.plot()"
   ]
  },
  {
   "cell_type": "code",
   "execution_count": null,
   "metadata": {
    "collapsed": true
   },
   "outputs": [],
   "source": [
    "rowdiff = np.diff(data1[:,2])"
   ]
  },
  {
   "cell_type": "code",
   "execution_count": null,
   "metadata": {},
   "outputs": [],
   "source": [
    "rowdiff"
   ]
  },
  {
   "cell_type": "code",
   "execution_count": null,
   "metadata": {
    "collapsed": true
   },
   "outputs": [],
   "source": []
  },
  {
   "cell_type": "code",
   "execution_count": null,
   "metadata": {
    "collapsed": true
   },
   "outputs": [],
   "source": [
    "# Gets potential outliers indexes based on percentiles\n",
    "def outliers(value, L=5, U=95):\n",
    "    \"\"\"Check if value is an outlier based on percentiles\n",
    "    \"\"\"\n",
    "    p25 = np.percentile(value, L)\n",
    "    p75 = np.percentile(value, U)    \n",
    "    \n",
    "    lower = p25 - 1.5 * (abs(p75) - abs(p25))\n",
    "    upper = p75 + 1.5 * (abs(p75) - abs(p25))\n",
    "    \n",
    "    return lower, upper\n",
    "\n",
    "def get_outlier(value, L=5, U=95):\n",
    "    \"\"\"Check if value is an outlier based on percentiles\n",
    "    \"\"\"\n",
    "    lower, upper = outliers(value, L, U)\n",
    "    \n",
    "    loutlier, uoutlier= value <= lower , value>= upper\n",
    "    return loutlier, uoutlier # Give 2 output variables - e.g. lower , upper =is_outlier(data,5,95)\n",
    "\n",
    "\n",
    "def diff_mat(matrix):\n",
    "    \n",
    "    if matrix.ndim !=2:\n",
    "        raise ValueError(\"input not 2 dim (n x m)\")\n",
    "    \n",
    "    nsize=matrix.shape[0]\n",
    "    msize=matrix.shape[1]\n",
    "    diffy=[]\n",
    "    diffx=[]\n",
    "    for y in range(nsize):\n",
    "        row_diff = matrix[y,:]-matrix[y-1,:]\n",
    "        diffy.append(row_diff)\n",
    "    for x in range(msize):\n",
    "        col_diff = matrix[:,x]-matrix[:,x-1]\n",
    "        diffx.append(col_diff)\n",
    "    diffy = np.array(diffy)\n",
    "    diffx = np.transpose(np.array(diffx)) \n",
    "    \n",
    "    return diffy, diffx\n",
    "\n",
    "def diff_outliers_bool(matrix, L=5, U=95):\n",
    "    \n",
    "    diffy, diffx = diff_mat(matrix)\n",
    "    \n",
    "    diffy_out, diffx_out = get_outlier(diffy, L, U), get_outlier(diffx, L, U)\n",
    "    diffy_bool, diffx_bool = np.logical_and(diffy_out, diffx_out)\n",
    "    diff_outliers = np.logical_or(diffy_bool, diffx_bool)\n",
    "    \n",
    "    return diff_outliers\n",
    "\n",
    "def diff_outliers_index(matrix, L=5, U=95):\n",
    "    \n",
    "    if matrix.ndim !=2:\n",
    "        raise ValueError(\"input not 2 dim (n x m)\")\n",
    "    \n",
    "    diff_outliers = diff_outliers_bool(matrix)\n",
    "    \n",
    "    diff_outliers_index = np.transpose(np.where(diff_outliers))\n",
    "    \n",
    "    return diff_outliers_index\n",
    "\n"
   ]
  },
  {
   "cell_type": "code",
   "execution_count": null,
   "metadata": {},
   "outputs": [],
   "source": [
    "a=np.random.random_integers(0,10,size=[5,5])\n",
    "a[2,2]=100\n",
    "a[0,0]=-20\n",
    "a"
   ]
  },
  {
   "cell_type": "code",
   "execution_count": null,
   "metadata": {},
   "outputs": [],
   "source": [
    "outliers(a)"
   ]
  },
  {
   "cell_type": "code",
   "execution_count": null,
   "metadata": {},
   "outputs": [],
   "source": [
    "diff_outliers_index(a)"
   ]
  },
  {
   "cell_type": "code",
   "execution_count": null,
   "metadata": {
    "collapsed": true
   },
   "outputs": [],
   "source": [
    "matrix = np.random.random_integers(0,10,size=[5,4])\n",
    "matrix[2,2]=100\n",
    "nsize=matrix.shape[0]\n",
    "msize=matrix.shape[1]\n",
    "diffy=[]\n",
    "diffx=[]\n",
    "for y in range(nsize):\n",
    "    row_diff = matrix[y,:]-matrix[y-1,:] \n",
    "    diffy.append(row_diff)\n",
    "for x in range(msize):\n",
    "    col_diff = matrix[:,x]-matrix[:,x-1]\n",
    "    diffx.append(col_diff)\n",
    "diffy = np.array(diffy)\n",
    "diffx = np.transpose(np.array(diffx))    "
   ]
  },
  {
   "cell_type": "code",
   "execution_count": null,
   "metadata": {
    "collapsed": true
   },
   "outputs": [],
   "source": [
    "diffx = np.transpose(diffx)"
   ]
  },
  {
   "cell_type": "code",
   "execution_count": null,
   "metadata": {},
   "outputs": [],
   "source": [
    "value = a\n",
    "L=1\n",
    "U=99\n",
    "    \n",
    "p25 = np.percentile(value, L)\n",
    "p75 = np.percentile(value, U)    \n",
    "\n",
    "lower = p25 - 1.5 * (abs(p75) - abs(p25))\n",
    "upper = p75 + 1.5 * (abs(p75) - abs(p25))\n",
    "\n",
    "upper"
   ]
  },
  {
   "cell_type": "code",
   "execution_count": null,
   "metadata": {},
   "outputs": [],
   "source": [
    "diffx"
   ]
  },
  {
   "cell_type": "code",
   "execution_count": null,
   "metadata": {},
   "outputs": [],
   "source": [
    "matrix.ndim"
   ]
  },
  {
   "cell_type": "code",
   "execution_count": null,
   "metadata": {
    "collapsed": true
   },
   "outputs": [],
   "source": [
    "value = a\n",
    "L=1\n",
    "U=99\n",
    "p25 = np.percentile(value, L)\n",
    "p75 = np.percentile(value, U)    \n",
    "    \n",
    "lower = p25 - 1.5 * (abs(p75) - abs(p25))\n",
    "upper = p75 + 1.5 * (abs(p75) - abs(p25))\n",
    "loutlier, uoutlier= value <= lower , value>= upper\n"
   ]
  },
  {
   "cell_type": "code",
   "execution_count": null,
   "metadata": {},
   "outputs": [],
   "source": [
    "uoutlier"
   ]
  },
  {
   "cell_type": "code",
   "execution_count": 5,
   "metadata": {},
   "outputs": [
    {
     "data": {
      "image/png": "[encoded data removed]",
      "text/plain": [
       "<matplotlib.figure.Figure at 0xa136550>"
      ]
     },
     "metadata": {},
     "output_type": "display_data"
    }
   ],
   "source": [
    "import numpy as np\n",
    "import scipy.ndimage\n",
    "import matplotlib.pyplot as plt\n",
    "\n",
    "#-- Generate some data...\n",
    "x, y = np.mgrid[-5:5:0.1, -5:5:0.1]\n",
    "z = np.sqrt(x**2 + y**2) + np.sin(x**2 + y**2)\n",
    "\n",
    "#-- Extract the line...\n",
    "# Make a line with \"num\" points...\n",
    "x0, y0 = 5, 4.5 # These are in _pixel_ coordinates!!\n",
    "x1, y1 = 60, 75\n",
    "num = 1000\n",
    "x, y = np.linspace(x0, x1, num), np.linspace(y0, y1, num)\n",
    "\n",
    "# Extract the values along the line, using cubic interpolation\n",
    "zi = z[x.astype(np.int), y.astype(np.int)]\n",
    "\n",
    "#-- Plot...\n",
    "fig, axes = plt.subplots(nrows=2)\n",
    "axes[0].imshow(z)\n",
    "axes[0].plot([x0, x1], [y0, y1], 'ro-')\n",
    "axes[0].axis('image')\n",
    "\n",
    "axes[1].plot(zi)\n",
    "\n",
    "plt.show()"
   ]
  },
  {
   "cell_type": "code",
   "execution_count": 2,
   "metadata": {},
   "outputs": [
    {
     "data": {
      "text/plain": [
       "array([ 6.28798709,  6.39235177,  6.49651054,  6.59901588,  6.69845112,\n",
       "        6.79344121,  6.88266304,  6.96485553,  7.03885123,  7.10368499,\n",
       "        7.15854043,  7.20272091,  7.23565334,  7.25689137,  7.26611793,\n",
       "        7.26314724,  7.24792612,  7.22053481,  7.18118706,  7.13023808,\n",
       "        7.0682271 ,  6.99583288,  6.91385377,  6.82326865,  6.72516967,\n",
       "        6.62070464,  6.51106702,  6.3974865 ,  6.28121945,  6.16353946,\n",
       "        6.0457279 ,  5.92906442,  5.81481756,  5.7042353 ,  5.59853565,\n",
       "        5.49889725,  5.40644531,  5.32216149,  5.2468327 ,  5.181112  ,\n",
       "        5.12554336,  5.08056059,  5.04648621,  5.02353077,  5.01179273,\n",
       "        5.01125868,  5.02180412,  5.04319468,  5.07508775,  5.11703469,\n",
       "        5.16848202,  5.22872775,  5.29692498,  5.37215603,  5.45344349,\n",
       "        5.53975663,  5.6300121 ,  5.72309309,  5.81787088,  5.91321295,\n",
       "        6.00799066,  6.10108666,  6.19140227,  6.27786474,  6.35943456,\n",
       "        6.43514623,  6.50415966,  6.56571535,  6.61913096,  6.66380502,\n",
       "        6.69922037,  6.72494712,  6.74064546,  6.74606844,  6.74109217,\n",
       "        6.72573044,  6.70009388,  6.66438505,  6.61889671,  6.56403309,\n",
       "        6.50035533,  6.42850738,  6.34919395,  6.26317534,  6.17126212,\n",
       "        6.07430968,  5.97321261,  5.8688991 ,  5.76232501,  5.65446801,\n",
       "        5.54632147,  5.43888825,  5.33316729,  5.23012424,  5.13065284,\n",
       "        5.03558672,  4.94570724,  4.86173978,  4.78435037,  4.71414246,\n",
       "        4.65165405,  4.59735501,  4.55164472,  4.51484995,  4.48722297,\n",
       "        4.46893995,  4.46009964,  4.46071514,  4.4706535 ,  4.48967046,\n",
       "        4.51744126,  4.55354022,  4.5974746 ,  4.64869718,  4.70661017,\n",
       "        4.77056923,  4.83988752,  4.91383989,  4.99166717,  5.07258049,\n",
       "        5.15576579,  5.24038863,  5.32560693,  5.41058583,  5.49450163,\n",
       "        5.57654605,  5.65593052,  5.73189035,  5.80369288,  5.87066444,\n",
       "        5.93218385,  5.98767683,  6.03661856,  6.07853608,  6.11301055,\n",
       "        6.13968011,  6.15827964,  6.16865691,  6.1707248 ,  6.16445731,\n",
       "        6.14988907,  6.12711467,  6.09628785,  6.05762045,  6.01138125,\n",
       "        5.95789458,  5.8975406 ,  5.83077008,  5.75808963,  5.68004573,\n",
       "        5.59723083,  5.51028513,  5.41986926,  5.32665766,  5.23133506,\n",
       "        5.13459302,  5.03712644,  4.93963016,  4.84279553,  4.74730704,\n",
       "        4.65383895,  4.56305197,  4.47558993,  4.39207651,  4.3130998 ,\n",
       "        4.23916029,  4.17069315,  4.10808969,  4.05169685,  4.00181628,\n",
       "        3.95870361,  3.92256772,  3.89357029,  3.87182536,  3.85739911,\n",
       "        3.85030973,  3.85052744,  3.85797461,  3.87251961,  3.8939471 ,\n",
       "        3.92198664,  3.95632866,  3.9966259 ,  4.04248582,  4.09347158,\n",
       "        4.14911948,  4.20894251,  4.27243271,  4.33906364,  4.40829278,\n",
       "        4.47956399,  4.55231002,  4.62595559,  4.6999278 ,  4.77366142,\n",
       "        4.84659901,  4.91819321,  4.98790891,  5.05522546,  5.11963882,\n",
       "        5.1806637 ,  5.23784353,  5.2907641 ,  5.33904186,  5.38232301,\n",
       "        5.42028475,  5.45263768,  5.47915213,  5.49965771,  5.51402068,\n",
       "        5.52214313,  5.52396298,  5.51945386,  5.50862499,  5.4915209 ,\n",
       "        5.4682211 ,  5.43883965,  5.40352468,  5.3624578 ,  5.31585772,\n",
       "        5.26398963,  5.20716009,  5.14571359,  5.08001449,  5.01044408,\n",
       "        4.93739885,  4.86128888,  4.78253609,  4.70157257,  4.61883888,\n",
       "        4.53478233,  4.44985528,  4.36451341,  4.279214  ,  4.19441415,\n",
       "        4.11056347,  4.02809289,  3.94741957,  3.86893698,  3.79301822,\n",
       "        3.7200185 ,  3.65027411,  3.58410147,  3.52179627,  3.46363258,\n",
       "        3.40986208,  3.36071334,  3.31639106,  3.27707552,  3.24291546,\n",
       "        3.2140097 ,  3.19042568,  3.17220511,  3.15936403,  3.15189298,\n",
       "        3.14975566,  3.152877  ,  3.1611504 ,  3.17444661,  3.19261449,\n",
       "        3.2154817 ,  3.24285547,  3.27452332,  3.31025233,  3.34978261,\n",
       "        3.39283664,  3.43912459,  3.48834535,  3.54018767,  3.59433113,\n",
       "        3.65044729,  3.70820074,  3.7672502 ,  3.82724973,  3.88785198,\n",
       "        3.94871105,  4.00948293,  4.06982718,  4.12941587,  4.18793342,\n",
       "        4.24507307,  4.30053767,  4.35404039,  4.40530548,  4.45406897,\n",
       "        4.50007938,  4.54309837,  4.58290136,  4.61927813,  4.65203343,\n",
       "        4.6809875 ,  4.70597731,  4.72687595,  4.74359582,  4.75606793,\n",
       "        4.76424065,  4.76807955,  4.76756729,  4.76270344,  4.75350432,\n",
       "        4.74000279,  4.72224801,  4.70030516,  4.67425523,  4.64419462,\n",
       "        4.61023495,  4.57250719,  4.53116251,  4.48636457,  4.43828835,\n",
       "        4.38712196,  4.3330679 ,  4.27633689,  4.21714659,  4.15572092,\n",
       "        4.09228944,  4.02708665,  3.96035142,  3.89232629,  3.82325684,\n",
       "        3.75338963,  3.68296869,  3.61223675,  3.54143502,  3.47080268,\n",
       "        3.40057625,  3.3309891 ,  3.26227081,  3.19464486,  3.1283231 ,\n",
       "        3.06350934,  3.00040027,  2.93918497,  2.88004458,  2.82314959,\n",
       "        2.76865214,  2.71669255,  2.66740141,  2.62089938,  2.57729705,\n",
       "        2.53669479,  2.49918259,  2.46483998,  2.43373588,  2.40592853,\n",
       "        2.38146546,  2.36038182,  2.34269361,  2.32840231,  2.31749207,\n",
       "        2.30993448,  2.30569182,  2.30471727,  2.3069551 ,  2.31234097,\n",
       "        2.32080209,  2.33225748,  2.34661825,  2.36378782,  2.3836622 ,\n",
       "        2.40613026,  2.43107401,  2.45836877,  2.48788262,  2.51947764,\n",
       "        2.55300964,  2.58833022,  2.62528837,  2.66373077,  2.7035022 ,\n",
       "        2.74444576,  2.7864033 ,  2.82921565,  2.87272298,  2.91676514,\n",
       "        2.9611819 ,  3.00581343,  3.05050317,  3.09509865,  3.13944945,\n",
       "        3.18340733,  3.22682648,  3.26956395,  3.31148318,  3.35245414,\n",
       "        3.39235097,  3.43105205,  3.46844019,  3.50440277,  3.53883188,\n",
       "        3.57162452,  3.60268549,  3.6319292 ,  3.6592758 ,  3.68465081,\n",
       "        3.70798517,  3.72921532,  3.74828323,  3.76513647,  3.77972822,\n",
       "        3.79201737,  3.80197199,  3.80957022,  3.81479608,  3.81763911,\n",
       "        3.81809559,  3.81617036,  3.81187375,  3.80522097,  3.79623195,\n",
       "        3.78493134,  3.77134835,  3.75551664,  3.7374743 ,  3.71726364,\n",
       "        3.69493116,  3.6705274 ,  3.64410683,  3.61572775,  3.58545342,\n",
       "        3.55335302,  3.51949863,  3.48396453,  3.44682709,  3.40816464,\n",
       "        3.36805731,  3.32658691,  3.28383677,  3.23989166,  3.19483757,\n",
       "        3.14876165,  3.10175204,  3.05389774,  3.00528826,  2.95601212,\n",
       "        2.90615734,  2.85581194,  2.80506338,  2.7539974 ,  2.70269868,\n",
       "        2.65125098,  2.59973707,  2.54823864,  2.4968362 ,  2.44560897,\n",
       "        2.39463485,  2.34399028,  2.29375006,  2.24398539,  2.19476432,\n",
       "        2.14615309,  2.09821604,  2.05101558,  2.00461217,  1.95906423,\n",
       "        1.91442752,  1.87075252,  1.82808642,  1.78647406,  1.74595798,\n",
       "        1.70657836,  1.66837293,  1.63137578,  1.5956172 ,  1.56112512,\n",
       "        1.52792519,  1.4960408 ,  1.46549305,  1.43630078,  1.40848061,\n",
       "        1.38204689,  1.35701178,  1.33338521,  1.31117466,  1.29038295,\n",
       "        1.27100955,  1.25305144,  1.2365029 ,  1.22135641,  1.20760268,\n",
       "        1.19523075,  1.18422804,  1.17458032,  1.16627181,  1.15928521,\n",
       "        1.15360171,  1.14920108,  1.14606165,  1.1441604 ,  1.143473  ,\n",
       "        1.14397384,  1.14563618,  1.14843137,  1.15232918,  1.15729861,\n",
       "        1.16330794,  1.17032479,  1.17831615,  1.18724843,  1.19708748,\n",
       "        1.20779864,  1.21934679,  1.23169637,  1.24481146,  1.25865589,\n",
       "        1.27319394,  1.28838985,  1.30420777,  1.32061168,  1.33756555,\n",
       "        1.3550335 ,  1.3729801 ,  1.39137008,  1.41016837,  1.42934014,\n",
       "        1.44885078,  1.46866598,  1.4887517 ,  1.50907434,  1.52960145,\n",
       "        1.55030133,  1.57114271,  1.59209475,  1.61312703,  1.63420962,\n",
       "        1.65531303,  1.67640828,  1.6974669 ,  1.7184615 ,  1.73936646,\n",
       "        1.76015687,  1.78080846,  1.80129762,  1.82160198,  1.84170022,\n",
       "        1.86157165,  1.88119622,  1.90055453,  1.91962779,  1.93839784,\n",
       "        1.95684718,  1.97495893,  1.99271684,  2.01010532,  2.02710939,\n",
       "        2.0437147 ,  2.05990803,  2.07567842,  2.09101616,  2.10591212,\n",
       "        2.12035776,  2.13434514,  2.14786686,  2.16091611,  2.17348665,\n",
       "        2.18557276,  2.1971693 ,  2.20827164,  2.2188757 ,  2.22897792,\n",
       "        2.23857523,  2.24766516,  2.2562458 ,  2.26431571,  2.27187409,\n",
       "        2.2789217 ,  2.28546   ,  2.29149087,  2.29701655,  2.30203969,\n",
       "        2.30656327,  2.31059062,  2.31412545,  2.31717178,  2.31973395,\n",
       "        2.32181661,  2.32342456,  2.32456286,  2.32523685,  2.32545209,\n",
       "        2.3252144 ,  2.32452982,  2.3234047 ,  2.32184619,  2.31986191,\n",
       "        2.31745966,  2.31464741,  2.31143329,  2.30782556,  2.30383259,\n",
       "        2.29946262,  2.29472394,  2.28962493,  2.28417406,  2.27837992,\n",
       "        2.27225115,  2.26579649,  2.25902476,  2.25194482,  2.24456562,\n",
       "        2.23689617,  2.2289457 ,  2.22072359,  2.21223922,  2.2035017 ,\n",
       "        2.19451999,  2.18530307,  2.17585988,  2.1661994 ,  2.15633056,\n",
       "        2.1462623 ,  2.13600355,  2.12556321,  2.11495015,  2.10417324,\n",
       "        2.0932413 ,  2.08216314,  2.07094751,  2.05960287,  2.04813739,\n",
       "        2.0365591 ,  2.024876  ,  2.01309605,  2.00122712,  1.98927705,\n",
       "        1.97725364,  1.9651646 ,  1.95301762,  1.94082031,  1.92858024,\n",
       "        1.91630493,  1.90400181,  1.89167808,  1.87934063,  1.86699627,\n",
       "        1.85465179,  1.84231389,  1.82998911,  1.81768371,  1.80540385,\n",
       "        1.79315566,  1.7809452 ,  1.76877849,  1.75666148,  1.74460009,\n",
       "        1.73260015,  1.72066735,  1.70880702,  1.69702441,  1.68532476,\n",
       "        1.67371323,  1.66219497,  1.65077506,  1.63945855,  1.62825046,\n",
       "        1.61715565,  1.60617863,  1.59532385,  1.5845957 ,  1.57399854,\n",
       "        1.5635366 ,  1.55321379,  1.54303393,  1.53300081,  1.5231182 ,\n",
       "        1.51338983,  1.50381941,  1.49441063,  1.48516713,  1.47609255,\n",
       "        1.4671905 ,  1.45846453,  1.44991821,  1.44155498,  1.43337793,\n",
       "        1.42538973,  1.41759297,  1.40999018,  1.40258389,  1.39537662,\n",
       "        1.38837085,  1.38156904,  1.37497362,  1.36858703,  1.36241162,\n",
       "        1.35644977,  1.3507038 ,  1.34517599,  1.33986857,  1.33478348,\n",
       "        1.32992251,  1.32528737,  1.32087955,  1.31670039,  1.31275122,\n",
       "        1.30903332,  1.30554795,  1.30229632,  1.29927961,  1.29649895,\n",
       "        1.29395543,  1.29165008,  1.28958389,  1.28775757,  1.28617167,\n",
       "        1.28482666,  1.283723  ,  1.28286111,  1.28224133,  1.281864  ,\n",
       "        1.28172926,  1.2818371 ,  1.28218746,  1.28278024,  1.28361527,\n",
       "        1.28469232,  1.28601112,  1.28757117,  1.28937169,  1.2914119 ,\n",
       "        1.29369093,  1.2962079 ,  1.29896188,  1.30195191,  1.30517698,\n",
       "        1.30863607,  1.31232808,  1.31625191,  1.32040631,  1.3247899 ,\n",
       "        1.32940123,  1.33423869,  1.33930027,  1.34458391,  1.35008752,\n",
       "        1.35580898,  1.36174614,  1.36789683,  1.37425884,  1.38082995,\n",
       "        1.38760791,  1.39459047,  1.40177533,  1.4091602 ,  1.41674277,\n",
       "        1.42452056,  1.43249056,  1.44064952,  1.44899415,  1.45752114,\n",
       "        1.46622718,  1.4751089 ,  1.48416295,  1.49338595,  1.50277451,\n",
       "        1.51232522,  1.52203467,  1.53189942,  1.54191605,  1.55208102,\n",
       "        1.5623902 ,  1.57283928,  1.58342391,  1.59413974,  1.60498235,\n",
       "        1.61594713,  1.62702945,  1.63822466,  1.64952807,  1.660935  ,\n",
       "        1.67244073,  1.68404052,  1.69572962,  1.7075032 ,  1.71935587,\n",
       "        1.73128192,  1.74327561,  1.75533114,  1.7674427 ,  1.77960444,\n",
       "        1.79181048,  1.80405489,  1.8163317 ,  1.82863473,  1.84095774,\n",
       "        1.85329444,  1.86563852,  1.87798359,  1.89032286,  1.90264916,\n",
       "        1.91495523,  1.92723381,  1.93947753,  1.95167902,  1.96383084,\n",
       "        1.97592549,  1.98795543,  1.99991308,  2.0117908 ,  2.02358089,\n",
       "        2.0352756 ,  2.04686698,  2.05834683,  2.0697067 ,  2.08093809,\n",
       "        2.09203244,  2.10298113,  2.11377547,  2.12440675,  2.13486618,\n",
       "        2.14514493,  2.15523413,  2.16512484,  2.17480809,  2.18427488,\n",
       "        2.19351612,  2.20252285,  2.2112863 ,  2.21979769,  2.2280481 ,\n",
       "        2.23602844,  2.24372964,  2.25114257,  2.25825809,  2.26506703,\n",
       "        2.2715602 ,  2.27772843,  2.28356249,  2.28905317,  2.29419127,\n",
       "        2.29896785,  2.303375  ,  2.30740506,  2.31105039,  2.31430336,\n",
       "        2.31715639,  2.31960193,  2.32163236,  2.32324003,  2.32441732,\n",
       "        2.3251567 ,  2.32545068,  2.32529187,  2.32467296,  2.32358704,\n",
       "        2.3220292 ,  2.31999535,  2.31748152,  2.31448386,  2.31099867,\n",
       "        2.30702239,  2.30255163,  2.29758314,  2.29211386,  2.28614087,\n",
       "        2.27966143,  2.27267287,  2.26517274,  2.25715907,  2.24863266,\n",
       "        2.23959609,  2.23005221,  2.22000412,  2.20945523,  2.1984092 ,\n",
       "        2.18687   ,  2.1748419 ,  2.16232947,  2.14933762,  2.13587157,\n",
       "        2.12193686,  2.10753941,  2.0926856 ,  2.07738483,  2.06164931,\n",
       "        2.04549172,  2.02892512,  2.01196298,  1.99461917,  1.97690797,\n",
       "        1.95884406,  1.94044259,  1.92171908,  1.90268954,  1.88337038,\n",
       "        1.86377849,  1.84393124,  1.82384851,  1.80355361,  1.78307044,\n",
       "        1.76242334,  1.74163706,  1.72073686,  1.69974845,  1.67869796,\n",
       "        1.65761195,  1.63651741,  1.61544175,  1.59441283,  1.57345889,\n",
       "        1.55260865,  1.53189219,  1.5113422 ,  1.49099196,  1.47087502,\n",
       "        1.45102517,  1.43147648,  1.41226322,  1.39341991,  1.37498132,\n",
       "        1.35698259,  1.33945914,  1.32244657,  1.30598067,  1.29009738,\n",
       "        1.27483275,  1.26022267,  1.24630291,  1.23310909,  1.22067673,\n",
       "        1.20904115,  1.19823751,  1.18830076,  1.17926562,  1.17116656,\n",
       "        1.16403777,  1.15791315,  1.15282629,  1.14881059,  1.14589852,\n",
       "        1.14411831,  1.14349602,  1.14405698,  1.14582578,  1.1488262 ,\n",
       "        1.15308121,  1.15861293,  1.16544259,  1.17359052,  1.18307609,\n",
       "        1.19391771,  1.20613277,  1.21973762,  1.23474693,  1.25116747,\n",
       "        1.26900052,  1.28824601,  1.30890243,  1.3309669 ,  1.35443503,\n",
       "        1.37930097,  1.40555732,  1.43319518,  1.46220404,  1.49257182,\n",
       "        1.5242848 ,  1.55732764,  1.59168298,  1.6273245 ,  1.66421717,\n",
       "        1.702324  ,  1.74160637,  1.78202398,  1.82353484,  1.86609516,\n",
       "        1.90965922,  1.95417954,  1.9996069 ,  2.04589037,  2.09297726,\n",
       "        2.14081319,  2.18934193,  2.23850084,  2.28821855,  2.33842186,\n",
       "        2.3890364 ,  2.43998662,  2.49119582,  2.54258624,  2.59407902,\n",
       "        2.64559428,  2.69705116,  2.74836765,  2.79946044,  2.8502453 ,\n",
       "        2.90063716,  2.95054942,  2.99989312,  3.04857919,  3.0965188 ,\n",
       "        3.1436235 ,  3.18980521,  3.23497639,  3.27905003,  3.3219398 ,\n",
       "        3.36356005,  3.40382598,  3.44265363,  3.47996004,  3.51566328])"
      ]
     },
     "execution_count": 2,
     "metadata": {},
     "output_type": "execute_result"
    }
   ],
   "source": [
    "zi"
   ]
  },
  {
   "cell_type": "code",
   "execution_count": 4,
   "metadata": {},
   "outputs": [
    {
     "data": {
      "text/plain": [
       "(100, 100)"
      ]
     },
     "execution_count": 4,
     "metadata": {},
     "output_type": "execute_result"
    }
   ],
   "source": [
    "z.shape"
   ]
  },
  {
   "cell_type": "code",
   "execution_count": null,
   "metadata": {
    "collapsed": true
   },
   "outputs": [],
   "source": []
  }
 ],
 "metadata": {
  "kernelspec": {
   "display_name": "Python 3",
   "language": "python",
   "name": "python3"
  },
  "language_info": {
   "codemirror_mode": {
    "name": "ipython",
    "version": 3
   },
   "file_extension": ".py",
   "mimetype": "text/x-python",
   "name": "python",
   "nbconvert_exporter": "python",
   "pygments_lexer": "ipython3",
   "version": "3.5.1"
  }
 },
 "nbformat": 4,
 "nbformat_minor": 2
}
