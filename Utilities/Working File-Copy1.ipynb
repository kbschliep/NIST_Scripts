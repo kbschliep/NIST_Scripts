{
 "cells": [
  {
   "cell_type": "code",
   "execution_count": 1,
   "metadata": {},
   "outputs": [],
   "source": [
    "## Packages\n",
    "'''Import all the necessary packages and modules'''\n",
    "\n",
    "\n",
    "%matplotlib qt4 \n",
    "#uses matplotlib qt4 interface\n",
    "\n",
    "import hyperspy.api as hs #call hyperspy by hs\n",
    "hs.preferences.gui(toolkit=\"traitsui\") #opens traitsui preference window\n",
    "from scipy import signal\n",
    "import scipy as sp\n",
    "import numpy as np # package for playing with matrices\n",
    "import matplotlib.pyplot as plt\n",
    "import pandas as pd # package for math\n",
    "import sys, os # python modules for interacting with computer\n",
    "from tkinter import filedialog # interface for opening a file explorer\n",
    "from tkinter import * # * imports all files in tkinter \n",
    "from tqdm import tqdm\n",
    "from skimage.morphology import extrema"
   ]
  },
  {
   "cell_type": "code",
   "execution_count": 2,
   "metadata": {
    "collapsed": true
   },
   "outputs": [],
   "source": [
    "## Data Directory GUI\n",
    "'''Getting data directory so data can easily be imported \n",
    "using this format data = hs.load('*.dm3', stack=True) to import all dm3s in folder as a stack'''\n",
    "\n",
    "\n",
    "root = Tk() # Tk() is a function in tkinter that opens a window\n",
    "root.directory = filedialog.askdirectory() # opens explorer window so you can find the folder of choice\n",
    "root.withdraw() # closes the tkinter window since it's unnecessary\n",
    "oldcwd = os.getcwd() # saves old called working directory (place where data is drawn from) as oldcwd use os.chdir(oldcwd) to go back\n",
    "os.chdir(root.directory) # sets new directory\n",
    "newcwd = os.getcwd() # saves new directory name as newcwd"
   ]
  },
  {
   "cell_type": "code",
   "execution_count": 3,
   "metadata": {},
   "outputs": [
    {
     "data": {
      "application/vnd.jupyter.widget-view+json": {
       "model_id": "355a4315c92843d4b786288944e8e586"
      }
     },
     "metadata": {},
     "output_type": "display_data"
    },
    {
     "name": "stdout",
     "output_type": "stream",
     "text": [
      "\n"
     ]
    }
   ],
   "source": [
    "## Load Data\n",
    "''' Open data and set up for analysis'''\n",
    "\n",
    "\n",
    "data = hs.load('*.dm3', stack=True) # loads all dm3 in the folder directory into a stack called data\n",
    "s = data.align2D()  # Aligns data stack and removes edges. Not working well\n",
    "n = np.shape(data)[2] # gives dimension of data (n x m) n = x-axis\n",
    "m = np.shape(data)[1] # gives dimension of data (n x m) m = y-axis\n",
    "z = np.shape(data)[0] # gives dimension of time steps = t-axis"
   ]
  },
  {
   "cell_type": "code",
   "execution_count": 4,
   "metadata": {
    "collapsed": true
   },
   "outputs": [],
   "source": [
    "##  Definitions of functions needed\n",
    "\n",
    "# Gets potential outliers indexes based on percentiles\n",
    "def get_outlier(value, L, U):\n",
    "    \"\"\"Check if value is an outlier based on percentiles\n",
    "    \"\"\"\n",
    "    p25 = np.percentile(value, L)\n",
    "    p75 = np.percentile(value, U)    \n",
    "    \n",
    "    lower = p25 - 1.5 * (p75 - p25)\n",
    "    upper = p75 + 1.5 * (p75 - p25)\n",
    "    loutlier, uoutlier= value <= lower , value>= upper\n",
    "    return loutlier, uoutlier # Give 2 output variables - e.g. lower , upper =is_outlier(data,5,95)\n",
    "\n",
    "# Gets the local mean around a specific index in the matrix\n",
    "# with size 1=3x3 -center point = 8 points; 2=5x5 -pt = 24 folds over edge ! didn't work over 2\n",
    "# Now works with any size \n",
    "def local_mean(matrix, x_axis, y_axis, size):\n",
    "    local_data=[]\n",
    "    numb=[]\n",
    "    nsize=matrix.shape[0]-1\n",
    "    msize=matrix.shape[1]-1\n",
    "    for n in range(-size, size+1,1) :\n",
    "        for m in range(-size, size+1,1):\n",
    "            if m==0 and n==0:\n",
    "                continue\n",
    "                \n",
    "            if  x_axis+n>=nsize and   y_axis+m>=msize:  #Cycles around far corner back to 0,0 for arbitrary size\n",
    "                k = (x_axis+n) \n",
    "                k = k % nsize\n",
    "                l = (y_axis+m) \n",
    "                l = l % msize\n",
    "                local_data.append(matrix[k, l])\n",
    "                numb.append([k, l])\n",
    "                continue\n",
    "            \n",
    "            if x_axis+n>=nsize:\n",
    "                k = x_axis+n \n",
    "                k = k% nsize\n",
    "                local_data.append(matrix[k, y_axis + m])\n",
    "                numb.append([k,y_axis + m])\n",
    "                continue\n",
    "            if   y_axis+m>=msize:\n",
    "                l = (y_axis+m) \n",
    "                l = l % msize\n",
    "                local_data.append(matrix[x_axis +n, l])\n",
    "                numb.append([x_axis, l])\n",
    "                continue\n",
    "          \n",
    "            local_data.append(matrix[x_axis+n,y_axis+m])\n",
    "            numb.append([x_axis+n,y_axis+m])\n",
    "            \n",
    "        \n",
    "    loc_mean=np.mean(local_data)        \n",
    "        \n",
    "    return loc_mean\n",
    "  \n",
    "    "
   ]
  },
  {
   "cell_type": "code",
   "execution_count": 5,
   "metadata": {},
   "outputs": [],
   "source": [
    "data.plot() # use h to set brightness and contrast"
   ]
  },
  {
   "cell_type": "code",
   "execution_count": null,
   "metadata": {},
   "outputs": [],
   "source": [
    "## Analysis for data cube\n",
    "'''\n",
    "Replaces all data outside percentiles get_outlier(data1,1,99) with a local mean.\n",
    "The local mean size is set by N=number of pixels in each direction N=1 -> (3x3)-1=8 pixels; N=2 -> (5x5)-1=24 pixels \n",
    "Effectively autothresholds while removing some x-rays.\n",
    "Repeat to remove further outliers (e.g 1 >outliers>1000 but local spot [ 5 10 999 13 4])\n",
    "'''\n",
    "for t in tqdm(range(0,z)):\n",
    "    #data=np.random.rand(3,4) used for testing purposes\n",
    "    repeat=1\n",
    "    r=0\n",
    "    while r <repeat:\n",
    "        data1 = data.data[t,:,:]\n",
    "        lower, upper = get_outlier(data1,5,95) # sets up 2 truth tables for the positions below lower bound or above upper bound\n",
    "        c, d = np.where(lower), np.where(upper) # gets indexes of where upper and lower are true\n",
    "        a, b = np.transpose(c), np.transpose(d) # rather than array [ x values] , array [y- values] gives array [x,y]\n",
    "        N=3\n",
    "\n",
    "        for [i,j] in a: # looks at positions where true only - faster than looking at all values      \n",
    "            loc_mean=local_mean(data1, i, j, N)\n",
    "            data1[i,j] = loc_mean # replaces all values where true with the local mean\n",
    "\n",
    "        for i,j in b:\n",
    "            loc_mean=local_mean(data1, i, j, N)       \n",
    "            data1[i,j] = loc_mean # replaces all values where true with the local mean\n",
    "\n",
    "        data.data[t,:,:]=data1\n",
    "        \n",
    "        r+=1 \n",
    "\n",
    "data=hs.signals.Signal2D(data)  #Converts data back to a Signal2D so hyperspy will work for it\n",
    "\n"
   ]
  },
  {
   "cell_type": "code",
   "execution_count": 18,
   "metadata": {},
   "outputs": [],
   "source": [
    "## Analysis for data cube\n",
    "'''\n",
    "Uses skimage.morphology extrema to find local maximum and minimum replace these points with a local mean.\n",
    "The local mean size is set by N=number of pixels in each direction N=1 -> (3x3)-1=8 pixels; N=2 -> (5x5)-1=24 pixels \n",
    "Effectively autothresholds while removing some x-rays.\n",
    "Repeat to remove further outliers (e.g 1 >outliers>1000 but local spot [ 5 10 999 13 4])\n",
    "'''\n",
    "data2=data\n",
    "for t in tqdm(range(0,z)):\n",
    "#     data=np.random.rand(20,20) #used for testing purposes\n",
    "#     data[3,5] = 50\n",
    "\n",
    "    data1 = data.data[t,:,:]\n",
    "\n",
    "    lower = extrema.local_minima(data1)\n",
    "    upper = extrema.local_maxima(data1)\n",
    "    c, d = np.where(lower), np.where(upper) # gets indexes of where upper and lower are true\n",
    "    a, b = np.transpose(c), np.transpose(d) # rather than array [ x values] , array [y- values] gives array [x,y]\n",
    "    N=3\n",
    "\n",
    "    for [i,j] in a: # looks at positions where true only - faster than looking at all values      \n",
    "        loc_mean=local_mean(data1, i, j, N)\n",
    "        data1[i,j] = loc_mean # replaces all values where true with the local mean\n",
    "\n",
    "    for i,j in b:\n",
    "        loc_mean=local_mean(data1, i, j, N)       \n",
    "        data1[i,j] = loc_mean # replaces all values where true with the local mean\n",
    "\n",
    "    data.data[t,:,:]=data1\n",
    "#     data = data1\n",
    "data=hs.signals.Signal2D(data)  #Converts data back to a Signal2D so hyperspy will work for it"
   ]
  },
  {
   "cell_type": "code",
   "execution_count": 19,
   "metadata": {},
   "outputs": [
    {
     "data": {
      "text/plain": [
       "array([[  28.5388031 ,  107.10797119,   78.38976288, ...,  460.05697632,\n",
       "         478.19714355,  472.41000366],\n",
       "       [ 186.39149475,   67.51266479,   66.26174164, ...,  453.95230103,\n",
       "         449.25961304,  509.3734436 ],\n",
       "       [  32.72006989,   50.81036758,   16.25526428, ...,  424.92721558,\n",
       "         454.94519043,  459.56948853],\n",
       "       ..., \n",
       "       [  83.91295624,   39.55205154,   22.04410744, ...,   28.30703354,\n",
       "         116.26087189,   91.66529083],\n",
       "       [  22.02653885,   95.53860474,   54.22337723, ...,   33.70259857,\n",
       "         139.32774353,  113.13525391],\n",
       "       [ 146.93943787,   23.9737606 ,   71.58887482, ...,  200.0324707 ,\n",
       "         174.65901184,  158.34983826]], dtype=float32)"
      ]
     },
     "execution_count": 19,
     "metadata": {},
     "output_type": "execute_result"
    }
   ],
   "source": [
    "data"
   ]
  },
  {
   "cell_type": "code",
   "execution_count": 9,
   "metadata": {},
   "outputs": [
    {
     "name": "stderr",
     "output_type": "stream",
     "text": [
      "C:\\Users\\kbs1\\Documents\\HyperSpy WinPython Bundle v1.3.0\\python-3.5.1.amd64\\lib\\site-packages\\matplotlib\\axes\\_base.py:2917: UserWarning: Attempting to set identical left==right results\n",
      "in singular transformations; automatically expanding.\n",
      "left=0.0, right=0.0\n",
      "  'left=%s, right=%s') % (left, right))\n"
     ]
    }
   ],
   "source": [
    "asdf.plot()"
   ]
  },
  {
   "cell_type": "code",
   "execution_count": null,
   "metadata": {},
   "outputs": [],
   "source": [
    "asdf=data2-data \n",
    "asdf=\n",
    "print(asdf)"
   ]
  },
  {
   "cell_type": "code",
   "execution_count": null,
   "metadata": {},
   "outputs": [],
   "source": [
    "print(a)"
   ]
  },
  {
   "cell_type": "code",
   "execution_count": null,
   "metadata": {},
   "outputs": [],
   "source": [
    "print(data.align2D())"
   ]
  },
  {
   "cell_type": "code",
   "execution_count": null,
   "metadata": {},
   "outputs": [],
   "source": [
    "len(s)"
   ]
  },
  {
   "cell_type": "code",
   "execution_count": null,
   "metadata": {},
   "outputs": [],
   "source": [
    "show_progressbar"
   ]
  },
  {
   "cell_type": "code",
   "execution_count": null,
   "metadata": {
    "collapsed": true
   },
   "outputs": [],
   "source": []
  }
 ],
 "metadata": {
  "kernelspec": {
   "display_name": "Python 3",
   "language": "python",
   "name": "python3"
  },
  "language_info": {
   "codemirror_mode": {
    "name": "ipython",
    "version": 3
   },
   "file_extension": ".py",
   "mimetype": "text/x-python",
   "name": "python",
   "nbconvert_exporter": "python",
   "pygments_lexer": "ipython3",
   "version": "3.5.4"
  }
 },
 "nbformat": 4,
 "nbformat_minor": 2
}
