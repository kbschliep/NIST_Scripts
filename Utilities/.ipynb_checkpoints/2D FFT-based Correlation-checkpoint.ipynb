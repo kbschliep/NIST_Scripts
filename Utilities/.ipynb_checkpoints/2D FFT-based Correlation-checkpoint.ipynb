{
 "cells": [
  {
   "cell_type": "code",
   "execution_count": 1,
   "metadata": {},
   "outputs": [],
   "source": [
    "## Packages\n",
    "'''Import all the necessary packages and modules'''\n",
    "%matplotlib qt4 \n",
    "#uses matplotlib qt4 interface\n",
    "from scipy.fftpack import fftn, ifftn\n",
    "import hyperspy.api as hs #call hyperspy by hs\n",
    "hs.preferences.gui(toolkit=\"traitsui\") #opens preference window to change display outputs  \n",
    "import scipy as sp\n",
    "import numpy as np # package for playing with matrices\n",
    "import sys, os # python modules for interacting with computer\n",
    "from tkinter import filedialog # interface for opening a file explorer\n",
    "from tkinter import * # * imports all files in tkinter "
   ]
  },
  {
   "cell_type": "code",
   "execution_count": 2,
   "metadata": {
    "collapsed": true
   },
   "outputs": [],
   "source": [
    "## Data Directory GUI\n",
    "'''Getting data directory so data can easily be imported \n",
    "using this format data = hs.load('*.dm3', stack=True) to import all dm3s in folder as a stack'''\n",
    "\n",
    "\n",
    "root = Tk() # Tk() is a function in tkinter that opens a window\n",
    "root.directory = filedialog.askdirectory() # opens explorer window so you can find the folder of choice\n",
    "root.withdraw() # closes the tkinter window since it's unnecessary\n",
    "oldcwd = os.getcwd() # saves old called working directory (place where data is drawn from) as oldcwd use os.chdir(oldcwd) to go back\n",
    "os.chdir(root.directory) # sets new directory\n",
    "newcwd = os.getcwd() # saves new directory name as newcwd"
   ]
  },
  {
   "cell_type": "code",
   "execution_count": 3,
   "metadata": {},
   "outputs": [],
   "source": [
    "## Defining Functions\n",
    "'''List of definitions that are not currently in any module to be imported'''\n",
    "\n",
    "def shift_image(im, shift=0, interpolation_order=1, fill_value=np.nan):\n",
    "    '''Shifts an image based on the input shift\n",
    "    \n",
    "    Taken from signal2D.py class in hyperspy\n",
    "    \n",
    "    '''\n",
    "    \n",
    "    \n",
    "    \n",
    "    if np.any(shift):\n",
    "        fractional, integral = np.modf(shift)\n",
    "        if fractional.any():\n",
    "            order = interpolation_order\n",
    "        else:\n",
    "            # Disable interpolation\n",
    "            order = 0\n",
    "        return sp.ndimage.shift(im, shift, cval=fill_value, order=order)\n",
    "    else:\n",
    "        return im\n",
    "    \n",
    "def fft_correlation(in1, in2, normalize=False):\n",
    "    \"\"\"Correlation of two N-dimensional arrays using FFT.\n",
    "\n",
    "    Adapted from scipy's fftconvolve.\n",
    "\n",
    "    Parameters\n",
    "    ----------\n",
    "    in1, in2 : array\n",
    "    normalize: bool\n",
    "        If True performs phase correlation\n",
    "\n",
    "    \"\"\"\n",
    "    s1 = np.array(in1.shape)\n",
    "    s2 = np.array(in2.shape)\n",
    "    size = s1 + s2 - 1\n",
    "    # Use 2**n-sized FFT\n",
    "    fsize = (2 ** np.ceil(np.log2(size))).astype(\"int\")\n",
    "    IN1 = fftn(in1, fsize)\n",
    "    IN1 *= fftn(in2, fsize).conjugate()\n",
    "    if normalize is True:\n",
    "        ret = ifftn(np.nan_to_num(IN1 / np.absolute(IN1))).real.copy()\n",
    "    else:\n",
    "        ret = ifftn(IN1).real.copy()\n",
    "    del IN1\n",
    "    return ret\n"
   ]
  },
  {
   "cell_type": "code",
   "execution_count": 4,
   "metadata": {},
   "outputs": [],
   "source": [
    "data = hs.load('*.dm3', stack=True) # loads all dm3 in the folder directory into a stack called data\n",
    "# s = data.align2D()  # Gets shifts based on fft_correlation\n",
    "# data = shift_image(data,s)    #Shifts data cells based on s "
   ]
  },
  {
   "cell_type": "code",
   "execution_count": 6,
   "metadata": {},
   "outputs": [],
   "source": [
    "img1 = data.data[0,:,:]\n",
    "img2 = data.data[1,:,:]\n",
    "corr = fft_correlation(img1,img2, True)\n",
    "corr = hs.signals.Signal2D(corr)    #Makes signal hyperspy 2Dsignal\n",
    "corr.plot()    #Generates a hyperspy plot to visualize data - use h to change the threshold"
   ]
  },
  {
   "cell_type": "code",
   "execution_count": 10,
   "metadata": {},
   "outputs": [
    {
     "data": {
      "text/plain": [
       "'0.17.0'"
      ]
     },
     "execution_count": 10,
     "metadata": {},
     "output_type": "execute_result"
    }
   ],
   "source": [
    "np.__version__\n",
    "sp.__version__"
   ]
  },
  {
   "cell_type": "code",
   "execution_count": null,
   "metadata": {
    "collapsed": true
   },
   "outputs": [],
   "source": []
  }
 ],
 "metadata": {
  "kernelspec": {
   "display_name": "Python 3",
   "language": "python",
   "name": "python3"
  },
  "language_info": {
   "codemirror_mode": {
    "name": "ipython",
    "version": 3
   },
   "file_extension": ".py",
   "mimetype": "text/x-python",
   "name": "python",
   "nbconvert_exporter": "python",
   "pygments_lexer": "ipython3",
   "version": "3.5.1"
  }
 },
 "nbformat": 4,
 "nbformat_minor": 2
}
