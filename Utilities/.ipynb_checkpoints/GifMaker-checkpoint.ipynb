{
 "cells": [
  {
   "cell_type": "code",
   "execution_count": 1,
   "metadata": {},
   "outputs": [
    {
     "name": "stderr",
     "output_type": "stream",
     "text": [
      "WARNING:hyperspy.api:The ipywidgets GUI elements are not available, probably because the hyperspy_gui_ipywidgets package is not installed.\n"
     ]
    }
   ],
   "source": [
    "## Packages\n",
    "'''Import all the necessary packages and modules'''\n",
    "\n",
    "%matplotlib inline\n",
    "import numpy as np # package for playing with matrices\n",
    "import matplotlib.pyplot as plt\n",
    "import matplotlib.cm as cm\n",
    "import matplotlib.colors as colors\n",
    "import sys, os # python modules for interacting with computer\n",
    "from tkinter import filedialog # interface for opening a file explorer\n",
    "from tkinter import * # * imports all files in tkinter \n",
    "import pandas as pd # useful for keeping cell structure and 2d data manipulation\n",
    "import glob # helps find path "
   ]
  },
  {
   "cell_type": "code",
   "execution_count": null,
   "metadata": {},
   "outputs": [],
   "source": [
    "## Data Directory GUI\n",
    "'''Getting data directory so data can easily be imported '''\n",
    "\n",
    "root = Tk() # Tk() is a function in tkinter that opens a window\n",
    "root.directory = filedialog.askdirectory() # opens explorer window so you can find the folder of choice\n",
    "root.withdraw() # closes the tkinter window since it's unnecessary\n",
    "oldcwd = os.getcwd() # saves old called working directory (place where data is drawn from) as oldcwd use os.chdir(oldcwd) to go back\n",
    "os.chdir(root.directory) # sets new directory\n",
    "newcwd = os.getcwd() # saves new directory name as newcwd"
   ]
  },
  {
   "cell_type": "code",
   "execution_count": null,
   "metadata": {},
   "outputs": [],
   "source": [
    "## Load Data use for .csv data\n",
    "''' Makes a list of all the files with the extension use * to '''\n",
    "\n",
    "path = root.directory + '/*_50ohm_Reordered.csv' # Change '' as needed\n",
    "a=0 # counter for looping through list starting at 0\n",
    "file_list=glob.glob(path)\n",
    "file_list"
   ]
  },
  {
   "cell_type": "code",
   "execution_count": null,
   "metadata": {},
   "outputs": [],
   "source": [
    "data.plot() # use h to set brightness and contrast"
   ]
  }
 ],
 "metadata": {
  "kernelspec": {
   "display_name": "Python [default]",
   "language": "python",
   "name": "python3"
  },
  "language_info": {
   "codemirror_mode": {
    "name": "ipython",
    "version": 3
   },
   "file_extension": ".py",
   "mimetype": "text/x-python",
   "name": "python",
   "nbconvert_exporter": "python",
   "pygments_lexer": "ipython3",
   "version": "3.5.5"
  }
 },
 "nbformat": 4,
 "nbformat_minor": 2
}
