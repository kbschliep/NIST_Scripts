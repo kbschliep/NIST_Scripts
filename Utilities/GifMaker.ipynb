{
 "cells": [
  {
   "cell_type": "code",
   "execution_count": 10,
   "metadata": {},
   "outputs": [],
   "source": [
    "## Packages\n",
    "'''Import all the necessary packages and modules'''\n",
    "import sys, os # python modules for interacting with computer\n",
    "from tkinter import filedialog # interface for opening a file explorer\n",
    "from tkinter import * # * imports all files in tkinter \n",
    "import glob # helps find path \n",
    "import imageio as io\n",
    "import numpy as np"
   ]
  },
  {
   "cell_type": "code",
   "execution_count": 18,
   "metadata": {},
   "outputs": [],
   "source": [
    "## Data Directory GUI\n",
    "'''Getting data directory so data can easily be imported '''\n",
    "\n",
    "root = Tk() # Tk() is a function in tkinter that opens a window\n",
    "root.directory = filedialog.askdirectory() # opens explorer window so you can find the folder of choice\n",
    "root.withdraw() # closes the tkinter window since it's unnecessary\n",
    "oldcwd = os.getcwd() # saves old called working directory (place where data is drawn from) as oldcwd use os.chdir(oldcwd) to go back\n",
    "os.chdir(root.directory) # sets new directory\n",
    "newcwd = os.getcwd() # saves new directory name as newcwd"
   ]
  },
  {
   "cell_type": "code",
   "execution_count": 19,
   "metadata": {},
   "outputs": [
    {
     "data": {
      "text/plain": [
       "['Z:/Figures and Certificates/Blender/Blender Animations/SingleCycle Continuous\\\\UEMvsTES5x50fps_continuous0117.png',\n",
       " 'Z:/Figures and Certificates/Blender/Blender Animations/SingleCycle Continuous\\\\UEMvsTES5x50fps_continuous0118.png',\n",
       " 'Z:/Figures and Certificates/Blender/Blender Animations/SingleCycle Continuous\\\\UEMvsTES5x50fps_continuous0119.png',\n",
       " 'Z:/Figures and Certificates/Blender/Blender Animations/SingleCycle Continuous\\\\UEMvsTES5x50fps_continuous0120.png',\n",
       " 'Z:/Figures and Certificates/Blender/Blender Animations/SingleCycle Continuous\\\\UEMvsTES5x50fps_continuous0121.png',\n",
       " 'Z:/Figures and Certificates/Blender/Blender Animations/SingleCycle Continuous\\\\UEMvsTES5x50fps_continuous0122.png',\n",
       " 'Z:/Figures and Certificates/Blender/Blender Animations/SingleCycle Continuous\\\\UEMvsTES5x50fps_continuous0123.png',\n",
       " 'Z:/Figures and Certificates/Blender/Blender Animations/SingleCycle Continuous\\\\UEMvsTES5x50fps_continuous0124.png',\n",
       " 'Z:/Figures and Certificates/Blender/Blender Animations/SingleCycle Continuous\\\\UEMvsTES5x50fps_continuous0125.png',\n",
       " 'Z:/Figures and Certificates/Blender/Blender Animations/SingleCycle Continuous\\\\UEMvsTES5x50fps_continuous0126.png',\n",
       " 'Z:/Figures and Certificates/Blender/Blender Animations/SingleCycle Continuous\\\\UEMvsTES5x50fps_continuous0127.png',\n",
       " 'Z:/Figures and Certificates/Blender/Blender Animations/SingleCycle Continuous\\\\UEMvsTES5x50fps_continuous0128.png',\n",
       " 'Z:/Figures and Certificates/Blender/Blender Animations/SingleCycle Continuous\\\\UEMvsTES5x50fps_continuous0129.png',\n",
       " 'Z:/Figures and Certificates/Blender/Blender Animations/SingleCycle Continuous\\\\UEMvsTES5x50fps_continuous0130.png',\n",
       " 'Z:/Figures and Certificates/Blender/Blender Animations/SingleCycle Continuous\\\\UEMvsTES5x50fps_continuous0131.png',\n",
       " 'Z:/Figures and Certificates/Blender/Blender Animations/SingleCycle Continuous\\\\UEMvsTES5x50fps_continuous0132.png',\n",
       " 'Z:/Figures and Certificates/Blender/Blender Animations/SingleCycle Continuous\\\\UEMvsTES5x50fps_continuous0133.png',\n",
       " 'Z:/Figures and Certificates/Blender/Blender Animations/SingleCycle Continuous\\\\UEMvsTES5x50fps_continuous0134.png',\n",
       " 'Z:/Figures and Certificates/Blender/Blender Animations/SingleCycle Continuous\\\\UEMvsTES5x50fps_continuous0135.png',\n",
       " 'Z:/Figures and Certificates/Blender/Blender Animations/SingleCycle Continuous\\\\UEMvsTES5x50fps_continuous0136.png',\n",
       " 'Z:/Figures and Certificates/Blender/Blender Animations/SingleCycle Continuous\\\\UEMvsTES5x50fps_continuous0137.png',\n",
       " 'Z:/Figures and Certificates/Blender/Blender Animations/SingleCycle Continuous\\\\UEMvsTES5x50fps_continuous0138.png',\n",
       " 'Z:/Figures and Certificates/Blender/Blender Animations/SingleCycle Continuous\\\\UEMvsTES5x50fps_continuous0139.png',\n",
       " 'Z:/Figures and Certificates/Blender/Blender Animations/SingleCycle Continuous\\\\UEMvsTES5x50fps_continuous0140.png',\n",
       " 'Z:/Figures and Certificates/Blender/Blender Animations/SingleCycle Continuous\\\\UEMvsTES5x50fps_continuous0141.png',\n",
       " 'Z:/Figures and Certificates/Blender/Blender Animations/SingleCycle Continuous\\\\UEMvsTES5x50fps_continuous0142.png',\n",
       " 'Z:/Figures and Certificates/Blender/Blender Animations/SingleCycle Continuous\\\\UEMvsTES5x50fps_continuous0143.png',\n",
       " 'Z:/Figures and Certificates/Blender/Blender Animations/SingleCycle Continuous\\\\UEMvsTES5x50fps_continuous0144.png',\n",
       " 'Z:/Figures and Certificates/Blender/Blender Animations/SingleCycle Continuous\\\\UEMvsTES5x50fps_continuous0145.png',\n",
       " 'Z:/Figures and Certificates/Blender/Blender Animations/SingleCycle Continuous\\\\UEMvsTES5x50fps_continuous0146.png',\n",
       " 'Z:/Figures and Certificates/Blender/Blender Animations/SingleCycle Continuous\\\\UEMvsTES5x50fps_continuous0147.png',\n",
       " 'Z:/Figures and Certificates/Blender/Blender Animations/SingleCycle Continuous\\\\UEMvsTES5x50fps_continuous0148.png',\n",
       " 'Z:/Figures and Certificates/Blender/Blender Animations/SingleCycle Continuous\\\\UEMvsTES5x50fps_continuous0149.png',\n",
       " 'Z:/Figures and Certificates/Blender/Blender Animations/SingleCycle Continuous\\\\UEMvsTES5x50fps_continuous0150.png',\n",
       " 'Z:/Figures and Certificates/Blender/Blender Animations/SingleCycle Continuous\\\\UEMvsTES5x50fps_continuous0151.png',\n",
       " 'Z:/Figures and Certificates/Blender/Blender Animations/SingleCycle Continuous\\\\UEMvsTES5x50fps_continuous0152.png',\n",
       " 'Z:/Figures and Certificates/Blender/Blender Animations/SingleCycle Continuous\\\\UEMvsTES5x50fps_continuous0153.png',\n",
       " 'Z:/Figures and Certificates/Blender/Blender Animations/SingleCycle Continuous\\\\UEMvsTES5x50fps_continuous0154.png',\n",
       " 'Z:/Figures and Certificates/Blender/Blender Animations/SingleCycle Continuous\\\\UEMvsTES5x50fps_continuous0155.png',\n",
       " 'Z:/Figures and Certificates/Blender/Blender Animations/SingleCycle Continuous\\\\UEMvsTES5x50fps_continuous0156.png',\n",
       " 'Z:/Figures and Certificates/Blender/Blender Animations/SingleCycle Continuous\\\\UEMvsTES5x50fps_continuous0157.png',\n",
       " 'Z:/Figures and Certificates/Blender/Blender Animations/SingleCycle Continuous\\\\UEMvsTES5x50fps_continuous0158.png',\n",
       " 'Z:/Figures and Certificates/Blender/Blender Animations/SingleCycle Continuous\\\\UEMvsTES5x50fps_continuous0159.png',\n",
       " 'Z:/Figures and Certificates/Blender/Blender Animations/SingleCycle Continuous\\\\UEMvsTES5x50fps_continuous0160.png',\n",
       " 'Z:/Figures and Certificates/Blender/Blender Animations/SingleCycle Continuous\\\\UEMvsTES5x50fps_continuous0161.png',\n",
       " 'Z:/Figures and Certificates/Blender/Blender Animations/SingleCycle Continuous\\\\UEMvsTES5x50fps_continuous0162.png',\n",
       " 'Z:/Figures and Certificates/Blender/Blender Animations/SingleCycle Continuous\\\\UEMvsTES5x50fps_continuous0163.png',\n",
       " 'Z:/Figures and Certificates/Blender/Blender Animations/SingleCycle Continuous\\\\UEMvsTES5x50fps_continuous0164.png',\n",
       " 'Z:/Figures and Certificates/Blender/Blender Animations/SingleCycle Continuous\\\\UEMvsTES5x50fps_continuous0165.png',\n",
       " 'Z:/Figures and Certificates/Blender/Blender Animations/SingleCycle Continuous\\\\UEMvsTES5x50fps_continuous0166.png',\n",
       " 'Z:/Figures and Certificates/Blender/Blender Animations/SingleCycle Continuous\\\\UEMvsTES5x50fps_continuous0167.png',\n",
       " 'Z:/Figures and Certificates/Blender/Blender Animations/SingleCycle Continuous\\\\UEMvsTES5x50fps_continuous0168.png',\n",
       " 'Z:/Figures and Certificates/Blender/Blender Animations/SingleCycle Continuous\\\\UEMvsTES5x50fps_continuous0169.png',\n",
       " 'Z:/Figures and Certificates/Blender/Blender Animations/SingleCycle Continuous\\\\UEMvsTES5x50fps_continuous0170.png',\n",
       " 'Z:/Figures and Certificates/Blender/Blender Animations/SingleCycle Continuous\\\\UEMvsTES5x50fps_continuous0171.png',\n",
       " 'Z:/Figures and Certificates/Blender/Blender Animations/SingleCycle Continuous\\\\UEMvsTES5x50fps_continuous0172.png',\n",
       " 'Z:/Figures and Certificates/Blender/Blender Animations/SingleCycle Continuous\\\\UEMvsTES5x50fps_continuous0173.png',\n",
       " 'Z:/Figures and Certificates/Blender/Blender Animations/SingleCycle Continuous\\\\UEMvsTES5x50fps_continuous0174.png',\n",
       " 'Z:/Figures and Certificates/Blender/Blender Animations/SingleCycle Continuous\\\\UEMvsTES5x50fps_continuous0175.png',\n",
       " 'Z:/Figures and Certificates/Blender/Blender Animations/SingleCycle Continuous\\\\UEMvsTES5x50fps_continuous0176.png',\n",
       " 'Z:/Figures and Certificates/Blender/Blender Animations/SingleCycle Continuous\\\\UEMvsTES5x50fps_continuous0177.png',\n",
       " 'Z:/Figures and Certificates/Blender/Blender Animations/SingleCycle Continuous\\\\UEMvsTES5x50fps_continuous0178.png',\n",
       " 'Z:/Figures and Certificates/Blender/Blender Animations/SingleCycle Continuous\\\\UEMvsTES5x50fps_continuous0179.png',\n",
       " 'Z:/Figures and Certificates/Blender/Blender Animations/SingleCycle Continuous\\\\UEMvsTES5x50fps_continuous0180.png',\n",
       " 'Z:/Figures and Certificates/Blender/Blender Animations/SingleCycle Continuous\\\\UEMvsTES5x50fps_continuous0181.png',\n",
       " 'Z:/Figures and Certificates/Blender/Blender Animations/SingleCycle Continuous\\\\UEMvsTES5x50fps_continuous0182.png',\n",
       " 'Z:/Figures and Certificates/Blender/Blender Animations/SingleCycle Continuous\\\\UEMvsTES5x50fps_continuous0183.png',\n",
       " 'Z:/Figures and Certificates/Blender/Blender Animations/SingleCycle Continuous\\\\UEMvsTES5x50fps_continuous0184.png',\n",
       " 'Z:/Figures and Certificates/Blender/Blender Animations/SingleCycle Continuous\\\\UEMvsTES5x50fps_continuous0185.png',\n",
       " 'Z:/Figures and Certificates/Blender/Blender Animations/SingleCycle Continuous\\\\UEMvsTES5x50fps_continuous0186.png',\n",
       " 'Z:/Figures and Certificates/Blender/Blender Animations/SingleCycle Continuous\\\\UEMvsTES5x50fps_continuous0187.png',\n",
       " 'Z:/Figures and Certificates/Blender/Blender Animations/SingleCycle Continuous\\\\UEMvsTES5x50fps_continuous0188.png',\n",
       " 'Z:/Figures and Certificates/Blender/Blender Animations/SingleCycle Continuous\\\\UEMvsTES5x50fps_continuous0189.png',\n",
       " 'Z:/Figures and Certificates/Blender/Blender Animations/SingleCycle Continuous\\\\UEMvsTES5x50fps_continuous0190.png',\n",
       " 'Z:/Figures and Certificates/Blender/Blender Animations/SingleCycle Continuous\\\\UEMvsTES5x50fps_continuous0191.png',\n",
       " 'Z:/Figures and Certificates/Blender/Blender Animations/SingleCycle Continuous\\\\UEMvsTES5x50fps_continuous0192.png',\n",
       " 'Z:/Figures and Certificates/Blender/Blender Animations/SingleCycle Continuous\\\\UEMvsTES5x50fps_continuous0193.png',\n",
       " 'Z:/Figures and Certificates/Blender/Blender Animations/SingleCycle Continuous\\\\UEMvsTES5x50fps_continuous0194.png',\n",
       " 'Z:/Figures and Certificates/Blender/Blender Animations/SingleCycle Continuous\\\\UEMvsTES5x50fps_continuous0195.png',\n",
       " 'Z:/Figures and Certificates/Blender/Blender Animations/SingleCycle Continuous\\\\UEMvsTES5x50fps_continuous0196.png',\n",
       " 'Z:/Figures and Certificates/Blender/Blender Animations/SingleCycle Continuous\\\\UEMvsTES5x50fps_continuous0197.png',\n",
       " 'Z:/Figures and Certificates/Blender/Blender Animations/SingleCycle Continuous\\\\UEMvsTES5x50fps_continuous0198.png',\n",
       " 'Z:/Figures and Certificates/Blender/Blender Animations/SingleCycle Continuous\\\\UEMvsTES5x50fps_continuous0199.png',\n",
       " 'Z:/Figures and Certificates/Blender/Blender Animations/SingleCycle Continuous\\\\UEMvsTES5x50fps_continuous0200.png',\n",
       " 'Z:/Figures and Certificates/Blender/Blender Animations/SingleCycle Continuous\\\\UEMvsTES5x50fps_continuous0201.png',\n",
       " 'Z:/Figures and Certificates/Blender/Blender Animations/SingleCycle Continuous\\\\UEMvsTES5x50fps_continuous0202.png',\n",
       " 'Z:/Figures and Certificates/Blender/Blender Animations/SingleCycle Continuous\\\\UEMvsTES5x50fps_continuous0203.png',\n",
       " 'Z:/Figures and Certificates/Blender/Blender Animations/SingleCycle Continuous\\\\UEMvsTES5x50fps_continuous0204.png',\n",
       " 'Z:/Figures and Certificates/Blender/Blender Animations/SingleCycle Continuous\\\\UEMvsTES5x50fps_continuous0205.png',\n",
       " 'Z:/Figures and Certificates/Blender/Blender Animations/SingleCycle Continuous\\\\UEMvsTES5x50fps_continuous0206.png',\n",
       " 'Z:/Figures and Certificates/Blender/Blender Animations/SingleCycle Continuous\\\\UEMvsTES5x50fps_continuous0207.png',\n",
       " 'Z:/Figures and Certificates/Blender/Blender Animations/SingleCycle Continuous\\\\UEMvsTES5x50fps_continuous0208.png',\n",
       " 'Z:/Figures and Certificates/Blender/Blender Animations/SingleCycle Continuous\\\\UEMvsTES5x50fps_continuous0209.png',\n",
       " 'Z:/Figures and Certificates/Blender/Blender Animations/SingleCycle Continuous\\\\UEMvsTES5x50fps_continuous0210.png',\n",
       " 'Z:/Figures and Certificates/Blender/Blender Animations/SingleCycle Continuous\\\\UEMvsTES5x50fps_continuous0211.png',\n",
       " 'Z:/Figures and Certificates/Blender/Blender Animations/SingleCycle Continuous\\\\UEMvsTES5x50fps_continuous0212.png',\n",
       " 'Z:/Figures and Certificates/Blender/Blender Animations/SingleCycle Continuous\\\\UEMvsTES5x50fps_continuous0213.png',\n",
       " 'Z:/Figures and Certificates/Blender/Blender Animations/SingleCycle Continuous\\\\UEMvsTES5x50fps_continuous0214.png',\n",
       " 'Z:/Figures and Certificates/Blender/Blender Animations/SingleCycle Continuous\\\\UEMvsTES5x50fps_continuous0215.png',\n",
       " 'Z:/Figures and Certificates/Blender/Blender Animations/SingleCycle Continuous\\\\UEMvsTES5x50fps_continuous0216.png',\n",
       " 'Z:/Figures and Certificates/Blender/Blender Animations/SingleCycle Continuous\\\\UEMvsTES5x50fps_continuous0217.png',\n",
       " 'Z:/Figures and Certificates/Blender/Blender Animations/SingleCycle Continuous\\\\UEMvsTES5x50fps_continuous0218.png',\n",
       " 'Z:/Figures and Certificates/Blender/Blender Animations/SingleCycle Continuous\\\\UEMvsTES5x50fps_continuous0219.png',\n",
       " 'Z:/Figures and Certificates/Blender/Blender Animations/SingleCycle Continuous\\\\UEMvsTES5x50fps_continuous0220.png',\n",
       " 'Z:/Figures and Certificates/Blender/Blender Animations/SingleCycle Continuous\\\\UEMvsTES5x50fps_continuous0221.png',\n",
       " 'Z:/Figures and Certificates/Blender/Blender Animations/SingleCycle Continuous\\\\UEMvsTES5x50fps_continuous0222.png',\n",
       " 'Z:/Figures and Certificates/Blender/Blender Animations/SingleCycle Continuous\\\\UEMvsTES5x50fps_continuous0223.png',\n",
       " 'Z:/Figures and Certificates/Blender/Blender Animations/SingleCycle Continuous\\\\UEMvsTES5x50fps_continuous0224.png',\n",
       " 'Z:/Figures and Certificates/Blender/Blender Animations/SingleCycle Continuous\\\\UEMvsTES5x50fps_continuous0225.png',\n",
       " 'Z:/Figures and Certificates/Blender/Blender Animations/SingleCycle Continuous\\\\UEMvsTES5x50fps_continuous0226.png',\n",
       " 'Z:/Figures and Certificates/Blender/Blender Animations/SingleCycle Continuous\\\\UEMvsTES5x50fps_continuous0227.png',\n",
       " 'Z:/Figures and Certificates/Blender/Blender Animations/SingleCycle Continuous\\\\UEMvsTES5x50fps_continuous0228.png',\n",
       " 'Z:/Figures and Certificates/Blender/Blender Animations/SingleCycle Continuous\\\\UEMvsTES5x50fps_continuous0229.png',\n",
       " 'Z:/Figures and Certificates/Blender/Blender Animations/SingleCycle Continuous\\\\UEMvsTES5x50fps_continuous0230.png',\n",
       " 'Z:/Figures and Certificates/Blender/Blender Animations/SingleCycle Continuous\\\\UEMvsTES5x50fps_continuous0231.png',\n",
       " 'Z:/Figures and Certificates/Blender/Blender Animations/SingleCycle Continuous\\\\UEMvsTES5x50fps_continuous0232.png',\n",
       " 'Z:/Figures and Certificates/Blender/Blender Animations/SingleCycle Continuous\\\\UEMvsTES5x50fps_continuous0233.png',\n",
       " 'Z:/Figures and Certificates/Blender/Blender Animations/SingleCycle Continuous\\\\UEMvsTES5x50fps_continuous0234.png',\n",
       " 'Z:/Figures and Certificates/Blender/Blender Animations/SingleCycle Continuous\\\\UEMvsTES5x50fps_continuous0235.png',\n",
       " 'Z:/Figures and Certificates/Blender/Blender Animations/SingleCycle Continuous\\\\UEMvsTES5x50fps_continuous0236.png']"
      ]
     },
     "execution_count": 19,
     "metadata": {},
     "output_type": "execute_result"
    }
   ],
   "source": [
    "## Load Data\n",
    "''' Makes a list of all the files with the extension use * to '''\n",
    "\n",
    "path = root.directory + '/*.png' # Change '' as needed\n",
    "a=0 # counter for looping through list starting at 0\n",
    "file_list=glob.glob(path)\n",
    "file_list"
   ]
  },
  {
   "cell_type": "code",
   "execution_count": 20,
   "metadata": {},
   "outputs": [],
   "source": [
    "frames = []\n",
    "\n",
    "for filename in file_list:\n",
    "    frames.append(io.imread(filename,format='.png'))\n",
    "\n",
    "\n",
    "# Save them as frames into a gif \n",
    "exportname = \"output_raw.gif\"\n",
    "io.mimsave(exportname, frames)"
   ]
  },
  {
   "cell_type": "code",
   "execution_count": 21,
   "metadata": {},
   "outputs": [
    {
     "data": {
      "text/plain": [
       "(120, 600, 600, 4)"
      ]
     },
     "execution_count": 21,
     "metadata": {},
     "output_type": "execute_result"
    }
   ],
   "source": [
    "np.shape(frames)"
   ]
  },
  {
   "cell_type": "code",
   "execution_count": null,
   "metadata": {},
   "outputs": [],
   "source": []
  }
 ],
 "metadata": {
  "kernelspec": {
   "display_name": "Python [default]",
   "language": "python",
   "name": "python3"
  },
  "language_info": {
   "codemirror_mode": {
    "name": "ipython",
    "version": 3
   },
   "file_extension": ".py",
   "mimetype": "text/x-python",
   "name": "python",
   "nbconvert_exporter": "python",
   "pygments_lexer": "ipython3",
   "version": "3.5.5"
  }
 },
 "nbformat": 4,
 "nbformat_minor": 2
}
