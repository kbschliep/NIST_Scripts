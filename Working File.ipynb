{
 "cells": [
  {
   "cell_type": "code",
   "execution_count": 1,
   "metadata": {},
   "outputs": [
    {
     "name": "stderr",
     "output_type": "stream",
     "text": [
      "WARNING:hyperspy.api:The ipywidgets GUI elements are not available, probably because the hyperspy_gui_ipywidgets package is not installed.\n"
     ]
    }
   ],
   "source": [
    "#%matplotlib inline\n",
    "## Packages\n",
    "'''Import all the necessary packages and modules'''\n",
    "\n",
    "\n",
    "%matplotlib qt4 \n",
    "#uses matplotlib qt4 interface\n",
    "\n",
    "import hyperspy.api as hs #call hyperspy by hs\n",
    "hs.preferences.gui(toolkit='traitsui') #opens traitsui preference window\n",
    "from scipy import signal\n",
    "import scipy as sp\n",
    "import numpy as np # package for playing with matrices\n",
    "import matplotlib.pyplot as plt\n",
    "import sys, os # python modules for interacting with computer\n",
    "from tkinter import filedialog # interface for opening a file explorer\n",
    "from tkinter import * # * imports all files in tkinter \n",
    "from tqdm import tqdm"
   ]
  },
  {
   "cell_type": "code",
   "execution_count": 2,
   "metadata": {
    "code_folding": [],
    "collapsed": true
   },
   "outputs": [],
   "source": [
    "## Data Directory GUI\n",
    "'''Getting data directory so data can easily be imported \n",
    "using this format data = hs.load('*.dm3', stack=True) to import all dm3s in folder as a stack'''\n",
    "\n",
    "\n",
    "root = Tk() # Tk() is a function in tkinter that opens a window\n",
    "root.directory = filedialog.askdirectory() # opens explorer window so you can find the folder of choice\n",
    "root.withdraw() # closes the tkinter window since it's unnecessary\n",
    "oldcwd = os.getcwd() # saves old called working directory (place where data is drawn from) as oldcwd use os.chdir(oldcwd) to go back\n",
    "os.chdir(root.directory) # sets new directory\n",
    "newcwd = os.getcwd() # saves new directory name as newcwd"
   ]
  },
  {
   "cell_type": "code",
   "execution_count": 3,
   "metadata": {
    "code_folding": [],
    "collapsed": true
   },
   "outputs": [],
   "source": [
    "## Load Data\n",
    "''' Open data and set up for analysis'''\n",
    "\n",
    "\n",
    "data = hs.load('*.dm3', stack=True) # loads all dm3 in the folder directory into a stack called data\n",
    "# s = data.align2D()  # Aligns data stack and removes edges. Not working well\n",
    "n = np.shape(data)[2] # gives dimension of data (n x m) n = x-axis\n",
    "m = np.shape(data)[1] # gives dimension of data (n x m) m = y-axis\n",
    "z = np.shape(data)[0] # gives dimension of time steps = t-axis"
   ]
  },
  {
   "cell_type": "code",
   "execution_count": 4,
   "metadata": {
    "code_folding": [],
    "collapsed": true
   },
   "outputs": [],
   "source": [
    "# Gets potential outliers indexes based on percentiles\n",
    "# Add t-test for outliers\n",
    "def outliers(value, L=5, U=95):\n",
    "    \"\"\"Check if value is an outlier based on percentiles\n",
    "    \"\"\"\n",
    "    p25 = np.percentile(value, L)\n",
    "    p75 = np.percentile(value, U)    \n",
    "    \n",
    "    lower = p25 - 1.5 * (abs(p75) - abs(p25))\n",
    "    upper = p75 + 1.5 * (abs(p75) - abs(p25))\n",
    "    \n",
    "    return lower, upper\n",
    "\n",
    "def get_outlier(value, L=5, U=95):\n",
    "    \"\"\"Check if value is an outlier based on percentiles\n",
    "    \"\"\"\n",
    "    lower, upper = outliers(value, L, U)\n",
    "    \n",
    "    loutlier, uoutlier= value <= lower , value>= upper\n",
    "    return loutlier, uoutlier # Give 2 output variables - e.g. lower , upper =is_outlier(data,5,95)\n",
    "\n",
    "\n",
    "def diff_mat(matrix):\n",
    "    \n",
    "    if matrix.ndim !=2:\n",
    "        raise ValueError(\"input not 2 dim (n x m)\")\n",
    "    \n",
    "    nsize=matrix.shape[0]\n",
    "    msize=matrix.shape[1]\n",
    "    diffy=[]\n",
    "    diffx=[]\n",
    "    for y in range(nsize):\n",
    "        row_diff = matrix[y,:]-matrix[y-1,:]\n",
    "        diffy.append(row_diff)\n",
    "    for x in range(msize):\n",
    "        col_diff = matrix[:,x]-matrix[:,x-1]\n",
    "        diffx.append(col_diff)\n",
    "    diffy = np.array(diffy)\n",
    "    diffx = np.transpose(np.array(diffx)) \n",
    "    \n",
    "    return diffy, diffx\n",
    "\n",
    "def diff_outliers_bool(matrix, L=5, U=95):\n",
    "    \n",
    "    if matrix.ndim !=2:\n",
    "        raise ValueError(\"input not 2 dim (n x m)\")\n",
    "    \n",
    "    diffy, diffx = diff_mat(matrix)\n",
    "    \n",
    "    diffy_out, diffx_out = get_outlier(diffy, L, U), get_outlier(diffx, L, U)\n",
    "    diffy_bool, diffx_bool = np.logical_and(diffy_out, diffx_out)\n",
    "    diff_outliers = np.logical_or(diffy_bool, diffx_bool)\n",
    "    \n",
    "    return diff_outliers\n",
    "\n",
    "def diff_outliers_index(matrix, L=5, U=95):\n",
    "    \n",
    "    if matrix.ndim !=2:\n",
    "        raise ValueError(\"input not 2 dim (n x m)\")\n",
    "    \n",
    "    diff_outliers = diff_outliers_bool(matrix)\n",
    "    \n",
    "    diff_outliers_index = np.transpose(np.where(diff_outliers))\n",
    "    \n",
    "    return diff_outliers_index\n",
    "\n",
    "\n",
    "# Gets the local mean around a specific index in the matrix\n",
    "# with size 1=3x3 -center point = 8 points; 2=5x5 -pt = 24 folds over edge ! didn't work over 2\n",
    "# Now works with any size \n",
    "def local_mean(matrix, x_axis, y_axis, size):\n",
    "    local_data=[]\n",
    "    numb=[]\n",
    "    nsize=matrix.shape[0]-1\n",
    "    msize=matrix.shape[1]-1\n",
    "    for n in range(-size, size+1,1) :\n",
    "        for m in range(-size, size+1,1):\n",
    "            if m==0 and n==0:\n",
    "                continue\n",
    "                \n",
    "            if  x_axis+n>=nsize and   y_axis+m>=msize:  #Cycles around far corner back to 0,0 for arbitrary size\n",
    "                k = (x_axis+n) \n",
    "                k = k % nsize\n",
    "                l = (y_axis+m) \n",
    "                l = l % msize\n",
    "                local_data.append(matrix[k, l])\n",
    "                numb.append([k, l])\n",
    "                continue\n",
    "            \n",
    "            if x_axis+n>=nsize:\n",
    "                k = x_axis+n \n",
    "                k = k% nsize\n",
    "                local_data.append(matrix[k, y_axis + m])\n",
    "                numb.append([k,y_axis + m])\n",
    "                continue\n",
    "            if   y_axis+m>=msize:\n",
    "                l = (y_axis+m) \n",
    "                l = l % msize\n",
    "                local_data.append(matrix[x_axis +n, l])\n",
    "                numb.append([x_axis, l])\n",
    "                continue\n",
    "          \n",
    "            local_data.append(matrix[x_axis+n,y_axis+m])\n",
    "            numb.append([x_axis+n,y_axis+m])\n",
    "            \n",
    "        \n",
    "    loc_mean=np.mean(local_data)        \n",
    "        \n",
    "    return loc_mean\n",
    "  \n",
    "    "
   ]
  },
  {
   "cell_type": "code",
   "execution_count": 5,
   "metadata": {
    "collapsed": true
   },
   "outputs": [],
   "source": [
    "data.plot() # use h to set brightness and contrast"
   ]
  },
  {
   "cell_type": "code",
   "execution_count": null,
   "metadata": {
    "collapsed": true
   },
   "outputs": [],
   "source": [
    "## Analysis for data cube\n",
    "'''\n",
    "Replaces all data where its difference with adjacent data is outside percentiles get_outlier(data1,5,95) with a local mean.\n",
    "The local mean size is set by N=number of pixels in each direction N=1 -> (3x3)-1=8 pixels; N=2 -> (5x5)-1=24 pixels \n",
    "The next part thresholds the images based on the rescaling intensity by the stack mean and then setting the thresholds\n",
    "'''\n",
    "slice_max=[]\n",
    "slice_min=[]\n",
    "for t in tqdm(range(0,z)):\n",
    "    #data=np.random.rand(3,4) used for testing purposes\n",
    "    data1 = data.data[t,:,:]\n",
    "    a = diff_outliers_index(data1)\n",
    "    N=3\n",
    "    \n",
    "    for [i,j] in a: # looks at positions where true only - faster than looking at all values      \n",
    "        loc_mean=local_mean(data1, i, j, N)\n",
    "        data1[i,j] = loc_mean # replaces all values where true with the local mean\n",
    "    \n",
    "    slice_max.append(np.max(data1))\n",
    "    slice_min.append(np.min(data1))\n",
    "    \n",
    "    data.data[t,:,:]=data1\n",
    "\n",
    "high_thresh = min(slice_max)\n",
    "low_thresh = max(slice_min)\n",
    "data = np.array(data)\n",
    "stack_mean=np.mean(data)\n",
    "data=hs.signals.Signal2D(data)\n",
    "\n",
    "for t in tqdm(range(0,z)):\n",
    "    data1=data.data[t,:,:]\n",
    "    \n",
    "    data1_mean=np.mean(data1)\n",
    "    data1=data1*(stack_mean/data1_mean) #normalize image intensity after getting rid of outliers\n",
    "\n",
    "    thresh_max_bool=data1>=min(slice_max)\n",
    "    thresh_min_bool=data1<=max(slice_min)\n",
    "    \n",
    "    thresh_max = np.where(thresh_max_bool)\n",
    "    thresh_min = np.where(thresh_min_bool)\n",
    "    \n",
    "    data1[thresh_max]=min(slice_max)\n",
    "    data1[thresh_min]=max(slice_min)\n",
    "    \n",
    "\n",
    "    \n",
    "    \n",
    "    data.data[t,:,:]=data1\n",
    "\n",
    "data=hs.signals.Signal2D(data)  #Converts data back to a Signal2D so hyperspy will work for it\n",
    "\n"
   ]
  },
  {
   "cell_type": "code",
   "execution_count": null,
   "metadata": {
    "collapsed": true
   },
   "outputs": [],
   "source": [
    "data.plot()"
   ]
  },
  {
   "cell_type": "code",
   "execution_count": null,
   "metadata": {
    "collapsed": true
   },
   "outputs": [],
   "source": [
    "np.mean(data.data[1,:,:])"
   ]
  },
  {
   "cell_type": "code",
   "execution_count": null,
   "metadata": {
    "collapsed": true
   },
   "outputs": [],
   "source": [
    "a=np.random.rand(5,5)\n",
    "x=np.mean(a)\n",
    "x\n",
    "c=a>np.mean(a)\n",
    "b=np.where(c)\n",
    "a"
   ]
  },
  {
   "cell_type": "code",
   "execution_count": null,
   "metadata": {
    "collapsed": true
   },
   "outputs": [],
   "source": [
    "min(slice_max)"
   ]
  },
  {
   "cell_type": "code",
   "execution_count": null,
   "metadata": {
    "collapsed": true
   },
   "outputs": [],
   "source": [
    "a[b]=1"
   ]
  },
  {
   "cell_type": "code",
   "execution_count": null,
   "metadata": {
    "collapsed": true
   },
   "outputs": [],
   "source": [
    "rec = hs.roi.Line2DROI?\n",
    "rectangle_ROI = rec.interactive(data,color='blue')"
   ]
  },
  {
   "cell_type": "code",
   "execution_count": null,
   "metadata": {
    "collapsed": true
   },
   "outputs": [],
   "source": [
    "line = hs.roi.Line2DROI(100,200,300,400,500)\n",
    "line_ROI = line.interactive(data, color='green')"
   ]
  },
  {
   "cell_type": "code",
   "execution_count": null,
   "metadata": {
    "collapsed": true
   },
   "outputs": [],
   "source": []
  },
  {
   "cell_type": "code",
   "execution_count": null,
   "metadata": {
    "collapsed": true
   },
   "outputs": [],
   "source": [
    "    line.x1"
   ]
  },
  {
   "cell_type": "code",
   "execution_count": null,
   "metadata": {
    "collapsed": true
   },
   "outputs": [],
   "source": [
    "## Use this to determine arbitrary rectangular data selection. \n",
    "\n",
    "import numpy as np\n",
    "import scipy.ndimage\n",
    "import matplotlib.pyplot as plt\n",
    "\n",
    "#-- Generate some data...\n",
    "x, y = np.mgrid[-5:5:0.1, -5:5:0.1]\n",
    "z = np.sqrt(x**2 + y**2) + np.sin(x**2 + y**2)\n",
    "\n",
    "#-- Extract the line...\n",
    "# Make a line with \"num\" points...\n",
    "x0, y0 = 5, 4.5 # These are in _pixel_ coordinates!!\n",
    "x1, y1 = 60, 75\n",
    "num = 1000\n",
    "x, y = np.linspace(x0, x1, num), np.linspace(y0, y1, num)\n",
    "\n",
    "# Extract the values along the line, using cubic interpolation\n",
    "zi = z[x.astype(np.int), y.astype(np.int)]\n",
    "\n",
    "#-- Plot...\n",
    "fig, axes = plt.subplots(nrows=2)\n",
    "axes[0].imshow(z)\n",
    "axes[0].plot([x0, x1], [y0, y1], 'ro-')\n",
    "axes[0].axis('image')\n",
    "\n",
    "axes[1].plot(zi)\n",
    "\n",
    "plt.show()"
   ]
  },
  {
   "cell_type": "code",
   "execution_count": null,
   "metadata": {
    "collapsed": true
   },
   "outputs": [],
   "source": [
    "from __future__ import print_function\n",
    "from matplotlib.widgets import RectangleSelector\n",
    "import numpy as np\n",
    "import matplotlib.pyplot as plt\n",
    "\n",
    "\n",
    "def line_select_callback(eclick, erelease):\n",
    "    'eclick and erelease are the press and release events'\n",
    "    x1, y1 = eclick.xdata, eclick.ydata\n",
    "    x2, y2 = erelease.xdata, erelease.ydata\n",
    "    print(\"(%3.2f, %3.2f) --> (%3.2f, %3.2f)\" % (x1, y1, x2, y2))\n",
    "    #print(\" The button you used were: %s %s\" % (eclick.button, erelease.button))\n",
    "\n",
    "\n",
    "def toggle_selector(event):\n",
    "    print(' Key pressed.')\n",
    "    if event.key in ['Q', 'q'] and toggle_selector.RS.active:\n",
    "        print(' RectangleSelector deactivated.')\n",
    "        toggle_selector.RS.set_active(False)\n",
    "    if event.key in ['A', 'a'] and not toggle_selector.RS.active:\n",
    "        print(' RectangleSelector activated.')\n",
    "        toggle_selector.RS.set_active(True)\n",
    "\n",
    "\n",
    "fig, current_ax = plt.subplots()                 # make a new plotting range\n",
    "N = 100000                                       # If N is large one can see\n",
    "x = np.linspace(0.0, 10.0, N)                    # improvement by use blitting!\n",
    "\n",
    "plt.plot(x, +np.sin(.2*np.pi*x), lw=3.5, c='b', alpha=.7)  # plot something\n",
    "plt.plot(x, +np.cos(.2*np.pi*x), lw=3.5, c='r', alpha=.5)\n",
    "plt.plot(x, -np.sin(.2*np.pi*x), lw=3.5, c='g', alpha=.3)\n",
    "\n",
    "print(\"\\n      click  -->  release\")\n",
    "\n",
    "# drawtype is 'box' or 'line' or 'none'\n",
    "toggle_selector.RS = RectangleSelector(current_ax, line_select_callback,\n",
    "                                       drawtype='none', useblit=True,\n",
    "                                       button=[1, 3],  # don't use middle button\n",
    "                                       minspanx=5, minspany=5,\n",
    "                                       spancoords='pixels',\n",
    "                                       interactive=True)\n",
    "plt.connect('key_press_event', toggle_selector)\n",
    "plt.show()"
   ]
  },
  {
   "cell_type": "code",
   "execution_count": null,
   "metadata": {
    "collapsed": true
   },
   "outputs": [],
   "source": [
    "from __future__ import print_function\n",
    "from matplotlib.widgets import RectangleSelector\n",
    "import numpy as np\n",
    "import matplotlib.pyplot as plt\n",
    "\n",
    "\n",
    "def line_select_callback(eclick, erelease):\n",
    "    'eclick and erelease are the press and release events'\n",
    "    x1, y1 = eclick.xdata, eclick.ydata\n",
    "    x2, y2 = erelease.xdata, erelease.ydata\n",
    "    print(\"(%3.2f, %3.2f) --> (%3.2f, %3.2f)\" % (x1, y1, x2, y2))\n",
    "    #print(\" The button you used were: %s %s\" % (eclick.button, erelease.button))\n",
    "\n",
    "fig, current_ax = plt.subplots()                 # make a new plotting range\n",
    "N = 100000                                       # If N is large one can see\n",
    "x = np.linspace(0.0, 10.0, N)                    # improvement by use blitting!\n",
    "\n",
    "plt.plot(x, +np.sin(.2*np.pi*x), lw=3.5, c='b', alpha=.7)  # plot something\n",
    "plt.plot(x, +np.cos(.2*np.pi*x), lw=3.5, c='r', alpha=.5)\n",
    "plt.plot(x, -np.sin(.2*np.pi*x), lw=3.5, c='g', alpha=.3)\n",
    "\n",
    "print(\"\\n      click  -->  release\")\n",
    "\n",
    "# drawtype is 'box' or 'line' or 'none'\n",
    "a = VertexSelector(current_ax, line_select_callback,\n",
    "                                       drawtype='none', useblit=True,\n",
    "                                       button=[1, 3],  # don't use middle button\n",
    "                                       minspanx=5, minspany=5,\n",
    "                                       spancoords='pixels',\n",
    "                                       interactive=True)\n",
    "plt.connect('key_press_event', line_select_callback)\n",
    "plt.show()"
   ]
  },
  {
   "cell_type": "code",
   "execution_count": null,
   "metadata": {
    "collapsed": true
   },
   "outputs": [],
   "source": [
    "line_select_callback()"
   ]
  },
  {
   "cell_type": "code",
   "execution_count": null,
   "metadata": {
    "collapsed": true
   },
   "outputs": [],
   "source": [
    "from __future__ import print_function\n",
    "import sys\n",
    "import matplotlib.pyplot as plt\n",
    "import numpy as np\n",
    "\n",
    "t = np.arange(0.0, 1.0, 0.01)\n",
    "s = np.sin(2 * np.pi * t)\n",
    "fig, ax = plt.subplots()\n",
    "ax.plot(t, s)\n",
    "\n",
    "\n",
    "def on_click(event):\n",
    "    # get the x and y coords, flip y from top to bottom\n",
    "    x, y = event.x, event.y\n",
    "    if event.button == 1:\n",
    "        if event.inaxes is not None:\n",
    "            print('data coords %f %f' % (event.xdata, event.ydata))\n",
    "def line_select_callback(eclick, erelease):\n",
    "    'eclick and erelease are the press and release events'\n",
    "    x0, y0 = eclick.xdata, eclick.ydata\n",
    "    x1, y1 = erelease.xdata, erelease.ydata\n",
    "    print(\"(%3.2f, %3.2f) --> (%3.2f, %3.2f)\" % (x1, y1, x2, y2))            \n",
    "    num = 1000\n",
    "    x, y = np.linspace(x0, x1, num), np.linspace(y0, y1, num)\n",
    "\n",
    "\n",
    "\n",
    "plt.connect('button_press_event', on_click)\n",
    "\n",
    "if \"test_disconnect\" in sys.argv:\n",
    "    print(\"disconnecting console coordinate printout...\")\n",
    "    plt.disconnect(binding_id)\n",
    "\n",
    "plt.show()"
   ]
  },
  {
   "cell_type": "code",
   "execution_count": null,
   "metadata": {
    "collapsed": true
   },
   "outputs": [],
   "source": []
  }
 ],
 "metadata": {
  "kernelspec": {
   "display_name": "Python 3",
   "language": "python",
   "name": "python3"
  },
  "language_info": {
   "codemirror_mode": {
    "name": "ipython",
    "version": 3
   },
   "file_extension": ".py",
   "mimetype": "text/x-python",
   "name": "python",
   "nbconvert_exporter": "python",
   "pygments_lexer": "ipython3",
   "version": "3.5.1"
  }
 },
 "nbformat": 4,
 "nbformat_minor": 2
}
