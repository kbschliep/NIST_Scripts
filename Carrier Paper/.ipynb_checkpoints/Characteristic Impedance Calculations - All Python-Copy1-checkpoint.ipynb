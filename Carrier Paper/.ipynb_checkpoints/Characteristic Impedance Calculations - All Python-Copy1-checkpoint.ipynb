{
 "cells": [
  {
   "cell_type": "code",
   "execution_count": 1,
   "metadata": {},
   "outputs": [],
   "source": [
    "## Packages\n",
    "'''Import all the necessary packages and modules'''\n",
    "\n",
    "%matplotlib inline\n",
    "import numpy as np # package for playing with matrices\n",
    "from scipy import special as ssp\n",
    "import matplotlib.pyplot as plt\n",
    "import matplotlib.cm as cm\n",
    "from scipy.optimize import root\n",
    "import sympy as sp\n"
   ]
  },
  {
   "cell_type": "code",
   "execution_count": 2,
   "metadata": {},
   "outputs": [],
   "source": [
    "## Define Equations for generating map of er with S-conductor width and W-gap width as indices\n",
    "'''Set up all the equations From Simon 2001 book'''\n",
    "\n",
    "k = lambda S, W : S/(S+2*W); # Modulus of Elliptic Integral of the 1st kind dependent on CPW \n",
    "k1 = lambda S, W : np.sinh(np.pi*S/(4*H))/(np.sinh((np.pi*(S+2*W))/(4*H))); # Modulus of Elliptic Integral of the 1st kind dependent on CPW \n",
    "kp = lambda S, W : (1-k(S,W)**2)**.5; # k' \n",
    "k1p = lambda S, W :(1-k1(S,W)**2)**.5; # k1'\n",
    "K = lambda S, W : ssp.ellipk(k(S,W)**2); # Elliptic Integral of the 1st kind of k\n",
    "K1 = lambda S, W : ssp.ellipk(k1(S,W)**2);\n",
    "Kp = lambda S, W : ssp.ellipk(kp(S,W)**2);\n",
    "K1p = lambda S, W :ssp.ellipk(k1p(S,W)**2);\n",
    "ef = lambda S, W, er :  1+((er-1)/2)*(K1(S,W)/K1p(S,W))*(Kp(S,W)/K(S,W));#effective dielectric constant\n",
    "Z0 = lambda S, W, er : (30*np.pi/(ef(S,W,er)**.5))*(Kp(S,W)/K(S,W))\n",
    "Z1 = 50 # set to 50 ohm\n",
    "Er = lambda S, W : (1800*np.pi**2 * Kp(S,W)**2 * K1p(S,W) + K(S,W)*Kp(S,W)*K1(S,W)*Z1**2-2*K(S,W)**2 \\\n",
    "                    * K1p(S,W)*Z1**2)/(K(S,W)*Kp(S,W)*K1(S,W)*Z1**2) ; #Calculated Er with results in order \n",
    "# '''Er has data in the order Er(S1,W1), Er(S1, W2), ... Er(S1, W[len(w)-1], Er(S1, W[len(w)])'''"
   ]
  },
  {
   "cell_type": "code",
   "execution_count": 3,
   "metadata": {},
   "outputs": [],
   "source": [
    "## Create Data for plotting\n",
    "'''Build arrays to evaluate Er above'''\n",
    "\n",
    "# er=2.33; # Dielectric constant only used as a check\n",
    "H=500; # um Thickness/Height of substrate\n",
    "size=1001\n",
    "d=1\n",
    "s=np.arange(1,size,d) # Conductor Width in um\n",
    "w=np.arange(1,size,d) # Gap Width in um\n",
    "s1=np.repeat(s,len(w)) # Creating Mesh of data points for image \n",
    "# S=(1,1,1,1,1,2,2,2,2,2,...size-1,size-1,size-1) at positions [0,0,...0,0,1,1,...1,1,...,size,size,...size,size] repeat len(w)\n",
    "w1=np.tile(w,len(s)) # Creating Mesh of data points for image\n",
    "# W=(1,2,...size-1,size,1,2,...size-1,size,...) repeats len(s)\n",
    "pEr=np.flipud(np.resize(Er(s1,w1),[len(s),len(w)]).T)# convert Er to a plottable image"
   ]
  },
  {
   "cell_type": "code",
   "execution_count": 4,
   "metadata": {},
   "outputs": [],
   "source": [
    "## Solve for different er - produces contour lines\n",
    "'''Set up all the equations From Simon 2001 book have to use a different module to solve'''\n",
    "\n",
    "W=sp.Symbol('W')\n",
    "# er=2.33; # Dielectric constant\n",
    "k = lambda S, W : S/(S+2*W); # Modulus of Elliptic Integral of the 1st kind dependent on CPW \n",
    "k1 = lambda S, W : sp.sinh(np.pi*S/(4*H))/(sp.sinh((np.pi*(S+2*W))/(4*H))); # Modulus of Elliptic Integral of the 1st kind dependent on CPW \n",
    "kp = lambda S, W : (1-k(S,W)**2)**.5; # k' \n",
    "k1p = lambda S, W :(1-k1(S,W)**2)**.5; # k1'\n",
    "K = lambda S, W : sp.special.elliptic_integrals.elliptic_k(k(S,W)**2); # Elliptic Integral of the 1st kind of k\n",
    "K1 = lambda S, W : sp.special.elliptic_integrals.elliptic_k(k1(S,W)**2);\n",
    "Kp = lambda S, W : sp.special.elliptic_integrals.elliptic_k(kp(S,W)**2);\n",
    "K1p = lambda S, W :sp.special.elliptic_integrals.elliptic_k(k1p(S,W)**2);\n",
    "Z1 = 50 # set to 50 ohm\n",
    "Er = lambda S, W : (1800*np.pi**2 * Kp(S,W)**2 * K1p(S,W) + K(S,W)*Kp(S,W)*K1(S,W)*Z1**2-2*K(S,W)**2 * K1p(S,W)*Z1**2)/(K(S,W)*Kp(S,W)*K1(S,W)*Z1**2) #Calculated Er with results in order "
   ]
  },
  {
   "cell_type": "code",
   "execution_count": 5,
   "metadata": {},
   "outputs": [],
   "source": [
    "## Actual Solution for the values listed in val - used solsize to limit solutions to those needed\n",
    "'''Iterates through sympy solver for different S calculating the appropriate W such that the er=val\n",
    "Takes a long time. \n",
    "\n",
    "'''\n",
    "\n",
    "solsize=625\n",
    "val=[1,2,3.8,4.4,6.7,10,13.1,15]\n",
    "sol=np.zeros([solsize,len(val)])\n",
    "a=0\n",
    "\n",
    "for j in np.arange(len(val)):\n",
    "    a=0\n",
    "    \n",
    "    for i in s[0:solsize-1]:\n",
    "        sol[a,j]= sp.functions.re(sp.nsolve(Er(int(i),W)-val[j],int(i)))\n",
    "        a+=1"
   ]
  },
  {
   "cell_type": "code",
   "execution_count": null,
   "metadata": {},
   "outputs": [],
   "source": [
    "## Define region beneath curve set by L=s+3*W = CPW total width \n",
    "'''Used thresh 625 so that 8 CPWs could fit on 5 mm with a 1 W between each'''\n",
    "\n",
    "L=np.zeros([size,size])\n",
    "for i in w:\n",
    "    for j in s:\n",
    "    \n",
    "        L[j-1,i-1]=s[i-1]+3*w[j-1]\n",
    "Thresh=625\n",
    "L[L<=Thresh]=False\n",
    "L[L>Thresh]=True\n",
    "L=np.flipud(L)"
   ]
  },
  {
   "cell_type": "code",
   "execution_count": null,
   "metadata": {},
   "outputs": [],
   "source": [
    "## Plot Data\n",
    "''' Plot all the results on 1 graph to make it look pretty used\n",
    "dimx# to piece together the lines to create a nice effect with contour lines. \n",
    "I could plot all the different contours with sol values but the contours lines worked well enough.'''\n",
    "\n",
    "Data_Name='Er Calculated' # Plot Title\n",
    "plt.rc('font', weight='bold') # Plot fonts are all bold\n",
    "plt.rcParams['axes.linewidth']=2 #Plot Frame linewidth is 2\n",
    "plt.rcParams['figure.figsize'] = (16,9) #Plot Frame set at 16,9\n",
    "plt.rcParams.update({'figure.autolayout': True})\n",
    "#Pretty colors used to generate the plot and hide 0's\n",
    "my_cmap = cm.jet_r \n",
    "my_cmap.set_under('k', alpha=0)\n",
    "my_cmap.set_over('k', alpha=0)\n",
    "my_cmap1 = cm.jet\n",
    "my_cmap1.set_under('k', alpha=0)\n",
    "my_cmap2 = cm.binary_r\n",
    "my_cmap2.set_under('k', alpha=0)\n",
    "\n",
    "\n",
    "fig = plt.figure() # Generates plot\n",
    "# fig.suptitle(Data_Name, fontsize=36, fontweight='bold') # Adds Data_name as Plot Title\n",
    "a=fig.text(0.94, 0.5,r'Sub. Dielectric Constant, $\\epsilon_r$', ha='center', va='center', rotation='vertical', fontsize=36, fontweight='bold')\n",
    "b=fig.text(-0.02, 0.5,r'Gap Width, W ($\\mu$m)', ha='center', va='center', rotation='vertical', fontsize=36, fontweight='bold')\n",
    "c=fig.text(.45, -0.02,r'Signal Conductor Width, S ($\\mu$m)', ha='center', va='center', fontsize=36, fontweight='bold')\n",
    "ax = fig.add_subplot(111) # Used to manipulate image on top of the frame\n",
    "\n",
    "# Plot labels and ticks\n",
    "# ax.set_xlabel(r'Signal Conductor Width, S ($\\mu$m)', fontsize=36, fontweight='bold', labelpad=12)\n",
    "# ax.set_ylabel(r'Gap Width, W ($\\mu$m)', fontsize=36, fontweight='bold',labelpad=24)\n",
    "\n",
    "ax.tick_params(axis='both', which='major', labelsize=24, width=2, length=6)\n",
    "ax.tick_params(axis='both', which='minor', labelsize=24, width=2, length=6)\n",
    "ax.xaxis.get_offset_text().set_visible(False)\n",
    "\n",
    "# Cludgey dim values to make it pretty\n",
    "dimx=solsize\n",
    "dimy=225\n",
    "dimx2=23\n",
    "dimx3=185\n",
    "dimx4=400\n",
    "\n",
    "# Contour parameters\n",
    "X=s[0:dimx]\n",
    "Y=np.flipud(w[0:dimy])\n",
    "Z=pEr[pEr.shape[0]-dimy-1:-1,0:dimx]\n",
    "\n",
    "# Plotting all the images - Each plotted on top of the last makes a stack - order important\n",
    "imgplot1=ax.imshow(pEr[size-dimy:-1,0:dimx], cmap=my_cmap, aspect='auto', clim=[1,15], extent=[0,dimx,0,dimy],alpha=.7)\n",
    "imgplot2=ax.imshow(L[1000-dimy:-1,0:dimx],  extent=[0,dimx,0,dimy], cmap=my_cmap2, aspect='auto',  clim=[.1,1],alpha=.8)\n",
    "linplot1=ax.plot(X[0:dimx3-5],-X[0:dimx3-5]/3+625/3, color='white', linewidth=10)\n",
    "linplot2=ax.plot(X[dimx-dimx2+5:-1],-X[dimx-dimx2+5:-1]/3+625/3, color='white', linewidth=10)\n",
    "contplot1=ax.contour(X, Y, Z,levels=[2,3.8,4.4,6.7,10,13.1],cmap=my_cmap, linewidths=5, alpha=1)\n",
    "linplot3=ax.plot(X[dimx3:dimx-dimx2],-X[dimx3:dimx-dimx2]/3+625/3, color='grey', linewidth=8)\n",
    "linplot4=ax.plot(X[0:sol[:-1,0][sol[:-1,0]<dimy].shape[0]],sol[:-1,0][sol[:-1,0]<dimy], color='black', linewidth=10)\n",
    "linplot5=ax.plot(X[0:sol[:,-1][sol[:,-1]<dimy].shape[0]-1],sol[:-1,-1][sol[:-1,-1]<dimy], color='black', linewidth=10)\n",
    "\n",
    "cbar=plt.colorbar(imgplot1)\n",
    "cbar.ax.tick_params(labelsize=24, width=2, length=6)\n",
    "fig.tight_layout()\n"
   ]
  },
  {
   "cell_type": "code",
   "execution_count": null,
   "metadata": {},
   "outputs": [],
   "source": [
    "## Output Image\n",
    "import sys, os # python modules for interacting with computer\n",
    "from tkinter import filedialog # interface for opening a file explorer\n",
    "from tkinter import * # * imports all files in tkinter \n",
    "\n",
    "root = Tk() # Tk() is a function in tkinter that opens a window\n",
    "root.directory = filedialog.askdirectory() # opens explorer window so you can find the folder of choice\n",
    "root.withdraw() # closes the tkinter window since it's unnecessary"
   ]
  },
  {
   "cell_type": "code",
   "execution_count": null,
   "metadata": {},
   "outputs": [],
   "source": [
    "file_name='Er_Calculated_4'\n",
    "ext='.png'\n",
    "file_loc=root.directory+'/'+file_name+ext\n",
    "file_loc"
   ]
  },
  {
   "cell_type": "code",
   "execution_count": null,
   "metadata": {},
   "outputs": [],
   "source": [
    "fig.savefig(file_loc,dpi=600,bbox_inches='tight')"
   ]
  },
  {
   "cell_type": "code",
   "execution_count": null,
   "metadata": {},
   "outputs": [],
   "source": []
  }
 ],
 "metadata": {
  "kernelspec": {
   "display_name": "Python [conda env:Machine_Learning]",
   "language": "python",
   "name": "conda-env-Machine_Learning-py"
  },
  "language_info": {
   "codemirror_mode": {
    "name": "ipython",
    "version": 3
   },
   "file_extension": ".py",
   "mimetype": "text/x-python",
   "name": "python",
   "nbconvert_exporter": "python",
   "pygments_lexer": "ipython3",
   "version": "3.6.6"
  }
 },
 "nbformat": 4,
 "nbformat_minor": 2
}
