{
 "cells": [
  {
   "cell_type": "code",
   "execution_count": 1,
   "metadata": {
    "scrolled": false
   },
   "outputs": [
    {
     "name": "stderr",
     "output_type": "stream",
     "text": [
      "C:\\Users\\kbs1\\AppData\\Local\\Continuum\\anaconda3\\envs\\pycroscopy\\lib\\site-packages\\h5py\\__init__.py:72: UserWarning: h5py is running against HDF5 1.10.2 when it was built against 1.10.3, this may cause problems\n",
      "  '{0}.{1}.{2}'.format(*version.hdf5_built_version_tuple)\n",
      "C:\\Users\\kbs1\\AppData\\Local\\Continuum\\anaconda3\\envs\\pycroscopy\\lib\\site-packages\\pycroscopy\\__init__.py:31: FutureWarning: Contents of pycroscopy.core such as hdf_utils, plot_utils have been moved to pyUSID but will continue to be available implicitly till the next release. Please update import statements to import such modules directly frompyUSID. See - https://pycroscopy.github.io/pycroscopy/whats_new.html under June 28 2018\n",
      "  'pyUSID. See - https://pycroscopy.github.io/pycroscopy/whats_new.html under June 28 2018', FutureWarning)\n"
     ]
    }
   ],
   "source": [
    "from pycroscopy.io.translators import ImageStackTranslator"
   ]
  },
  {
   "cell_type": "code",
   "execution_count": 3,
   "metadata": {},
   "outputs": [],
   "source": [
    "hdf5_path = 'C:\\\\Users\\\\kbs1\\\\Documents\\\\TestData\\\\Test\\\\SmallTest\\\\Test.hdf5'\n",
    "Data_path = 'C:\\\\Users\\\\kbs1\\\\Documents\\\\TestData\\\\Test\\\\SmallTest\\\\'\n",
    "tran=ImageStackTranslator()\n",
    "test_data= tran.translate(hdf5_path, Data_path, image_type='.dm3')"
   ]
  },
  {
   "cell_type": "code",
   "execution_count": null,
   "metadata": {},
   "outputs": [],
   "source": [
    "from pycroscopy.io.translators.df_utils.dm_utils import read_dm3\n",
    "Data_path = 'C:\\\\Users\\\\kbs1\\\\Documents\\\\TestData\\\\Test\\\\SmallTest\\\\'\n",
    "filename=Data_path+'/1.dm3'\n",
    "images, image_params= read_dm3(filename)"
   ]
  },
  {
   "cell_type": "code",
   "execution_count": null,
   "metadata": {},
   "outputs": [],
   "source": [
    "type(images)"
   ]
  },
  {
   "cell_type": "code",
   "execution_count": null,
   "metadata": {},
   "outputs": [],
   "source": [
    "vsize"
   ]
  },
  {
   "cell_type": "code",
   "execution_count": null,
   "metadata": {},
   "outputs": [],
   "source": [
    "import os\n",
    "def _parse_file_path(path, ftype='all'):\n",
    "        \"\"\"\n",
    "        Returns a list of all files in the directory given by path\n",
    "        \n",
    "        Parameters\n",
    "        ---------------\n",
    "        path : string / unicode\n",
    "            absolute path to directory containing files\n",
    "        ftype : this file types to return in file_list. (optional. Default is all) \n",
    "        \n",
    "        Returns\n",
    "        ----------\n",
    "        file_list : list of strings\n",
    "            names of all files in directory located at path\n",
    "        numfiles : unsigned int\n",
    "            number of files in file_list\n",
    "        \"\"\"    \n",
    "        \n",
    "        # Get all files in directory\n",
    "        file_list = os.listdir(path)\n",
    "        \n",
    "        # If no file type specified, return full list\n",
    "        if ftype == 'all':\n",
    "            return file_list\n",
    "\n",
    "        # Remove files of type other than the request ftype from the list\n",
    "        new_file_list = []\n",
    "        for this_thing in file_list:\n",
    "            # Make sure it's really a file\n",
    "            if not os.path.isfile(os.path.join(path, this_thing)):\n",
    "                continue\n",
    "\n",
    "            split = os.path.splitext(this_thing)\n",
    "            ext = split[1]\n",
    "            if ext == ftype:\n",
    "                new_file_list.append(os.path.join(path, this_thing))\n",
    "\n",
    "        return new_file_list"
   ]
  },
  {
   "cell_type": "code",
   "execution_count": null,
   "metadata": {},
   "outputs": [],
   "source": [
    "\n",
    "file_list = _parse_file_path(Data_path, '.dm3')"
   ]
  },
  {
   "cell_type": "code",
   "execution_count": null,
   "metadata": {},
   "outputs": [],
   "source": [
    "file_list"
   ]
  },
  {
   "cell_type": "code",
   "execution_count": null,
   "metadata": {},
   "outputs": [],
   "source": [
    "num_files = len(file_list)\n",
    "for ifile, thisfile in enumerate(file_list):\n",
    "    print(ifile)\n",
    "    print(thisfile)\n",
    "    selected = (ifile + 1) % round(num_files / 16) == 0"
   ]
  },
  {
   "cell_type": "code",
   "execution_count": null,
   "metadata": {},
   "outputs": [],
   "source": [
    "import numpy as np\n",
    "scan_size_x = int(np.floor(np.sqrt(len(file_list))))\n",
    "scan_size_y = scan_size_x\n",
    "scan_size_y = int(np.floor(len(file_list) / scan_size_x))\n",
    "num_files = scan_size_x*scan_size_y"
   ]
  },
  {
   "cell_type": "code",
   "execution_count": null,
   "metadata": {},
   "outputs": [],
   "source": [
    "round(num_files / 16)"
   ]
  },
  {
   "cell_type": "code",
   "execution_count": null,
   "metadata": {},
   "outputs": [],
   "source": []
  },
  {
   "cell_type": "code",
   "execution_count": null,
   "metadata": {},
   "outputs": [],
   "source": []
  }
 ],
 "metadata": {
  "kernelspec": {
   "display_name": "Python [conda env:pycroscopy]",
   "language": "python",
   "name": "conda-env-pycroscopy-py"
  },
  "language_info": {
   "codemirror_mode": {
    "name": "ipython",
    "version": 3
   },
   "file_extension": ".py",
   "mimetype": "text/x-python",
   "name": "python",
   "nbconvert_exporter": "python",
   "pygments_lexer": "ipython3",
   "version": "3.6.6"
  }
 },
 "nbformat": 4,
 "nbformat_minor": 2
}
