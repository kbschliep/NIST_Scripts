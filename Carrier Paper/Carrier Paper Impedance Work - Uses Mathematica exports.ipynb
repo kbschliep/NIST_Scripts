{
 "cells": [
  {
   "cell_type": "code",
   "execution_count": 1,
   "metadata": {},
   "outputs": [],
   "source": [
    "## Packages\n",
    "'''Import all the necessary packages and modules'''\n",
    "%matplotlib inline\n",
    "import matplotlib.image as mpimg\n",
    "import numpy as np # package for playing with matrices\n",
    "import cv2\n",
    "from scipy import signal as ss\n",
    "from scipy.ndimage import filters as filt\n",
    "import matplotlib.pyplot as plt\n",
    "import matplotlib.cm as cm\n",
    "import sys, os # python modules for interacting with computer\n",
    "from tkinter import filedialog # interface for opening a file explorer\n",
    "from tkinter import * # * imports all files in tkinter \n",
    "import pandas as pd # useful for keeping cell structure and 2d data manipulation\n",
    "import glob # helps find path "
   ]
  },
  {
   "cell_type": "code",
   "execution_count": 2,
   "metadata": {},
   "outputs": [
    {
     "ename": "OSError",
     "evalue": "[WinError 123] The filename, directory name, or volume label syntax is incorrect: ''",
     "output_type": "error",
     "traceback": [
      "\u001b[1;31m---------------------------------------------------------------------------\u001b[0m",
      "\u001b[1;31mOSError\u001b[0m                                   Traceback (most recent call last)",
      "\u001b[1;32m<ipython-input-2-8c7e022df432>\u001b[0m in \u001b[0;36m<module>\u001b[1;34m()\u001b[0m\n\u001b[0;32m      8\u001b[0m \u001b[0mroot\u001b[0m\u001b[1;33m.\u001b[0m\u001b[0mwithdraw\u001b[0m\u001b[1;33m(\u001b[0m\u001b[1;33m)\u001b[0m \u001b[1;31m# closes the tkinter window since it's unnecessary\u001b[0m\u001b[1;33m\u001b[0m\u001b[0m\n\u001b[0;32m      9\u001b[0m \u001b[0moldcwd\u001b[0m \u001b[1;33m=\u001b[0m \u001b[0mos\u001b[0m\u001b[1;33m.\u001b[0m\u001b[0mgetcwd\u001b[0m\u001b[1;33m(\u001b[0m\u001b[1;33m)\u001b[0m \u001b[1;31m# saves old called working directory (place where data is drawn from) as oldcwd use os.chdir(oldcwd) to go back\u001b[0m\u001b[1;33m\u001b[0m\u001b[0m\n\u001b[1;32m---> 10\u001b[1;33m \u001b[0mos\u001b[0m\u001b[1;33m.\u001b[0m\u001b[0mchdir\u001b[0m\u001b[1;33m(\u001b[0m\u001b[0mroot\u001b[0m\u001b[1;33m.\u001b[0m\u001b[0mdirectory\u001b[0m\u001b[1;33m)\u001b[0m \u001b[1;31m# sets new directory\u001b[0m\u001b[1;33m\u001b[0m\u001b[0m\n\u001b[0m\u001b[0;32m     11\u001b[0m \u001b[0mnewcwd\u001b[0m \u001b[1;33m=\u001b[0m \u001b[0mos\u001b[0m\u001b[1;33m.\u001b[0m\u001b[0mgetcwd\u001b[0m\u001b[1;33m(\u001b[0m\u001b[1;33m)\u001b[0m \u001b[1;31m# saves new directory name as newcwd\u001b[0m\u001b[1;33m\u001b[0m\u001b[0m\n",
      "\u001b[1;31mOSError\u001b[0m: [WinError 123] The filename, directory name, or volume label syntax is incorrect: ''"
     ]
    }
   ],
   "source": [
    "## Data Directory GUI\n",
    "'''Getting data directory so data can easily be imported \n",
    "using this format data = hs.load('*.dm3', stack=True) to import all dm3s in folder as a stack'''\n",
    "\n",
    "root = Tk() # Tk() is a function in tkinter that opens a window\n",
    "root.directory = filedialog.askdirectory() # opens explorer window so you can find the folder of choice\n",
    "#root.file = fieldialog.askopenfilename()\n",
    "root.withdraw() # closes the tkinter window since it's unnecessary\n",
    "oldcwd = os.getcwd() # saves old called working directory (place where data is drawn from) as oldcwd use os.chdir(oldcwd) to go back\n",
    "os.chdir(root.directory) # sets new directory\n",
    "newcwd = os.getcwd() # saves new directory name as newcwd"
   ]
  },
  {
   "cell_type": "code",
   "execution_count": null,
   "metadata": {},
   "outputs": [],
   "source": [
    "## Load Data use for .csv data\n",
    "''' Open data and set up for analysis'''\n",
    "path = root.directory + '/*.csv' # creates path to data set folder directory. Change .csv to file type as needed\n",
    "a=0 # counter for looping through list starting at 0\n",
    "file_list=glob.glob(path)\n",
    "file_list"
   ]
  },
  {
   "cell_type": "code",
   "execution_count": null,
   "metadata": {},
   "outputs": [],
   "source": [
    "data = np.asarray(pd.read_csv(file_list[0], header=None)) # uses pandas to open files and keep structure\n",
    "data1 = np.asarray(pd.read_csv(file_list[1], header=None)) # uses pandas to open files and keep structure\n",
    "data2 = np.asarray(pd.read_csv(file_list[2], header=None)) # uses pandas to open files and keep structure\n",
    "zero_data1=data1[data1<=0].size\n",
    "\n",
    "    "
   ]
  },
  {
   "cell_type": "code",
   "execution_count": null,
   "metadata": {},
   "outputs": [],
   "source": [
    "data1[:,0][0:zero_data1]=data1[zero_data1]/zero_data1*W[0:zero_data1]\n",
    "W=np.arange(data.shape[1])+1\n",
    "S=np.arange(data.shape[0])+1\n",
    "data[data>15]=0\n",
    "data=np.flipud(data)\n"
   ]
  },
  {
   "cell_type": "code",
   "execution_count": null,
   "metadata": {},
   "outputs": [],
   "source": [
    "L=np.zeros(data.shape)\n",
    "for i in W:\n",
    "    for j in S:\n",
    "    \n",
    "        L[j-1,i-1]=W[i-1]+3*S[j-1]\n",
    "Thresh=625\n",
    "L[L<=Thresh]=False\n",
    "L[L>Thresh]=True\n",
    "L=np.flipud(L)"
   ]
  },
  {
   "cell_type": "code",
   "execution_count": null,
   "metadata": {},
   "outputs": [],
   "source": [
    "## Plots data\n",
    "''' Plots data as image'''\n",
    "\n",
    "Data_Name = file_list[0].split('\\\\')[1].split('.')[0]+'image'\n",
    "\n",
    "plt.rc('font', weight='bold')\n",
    "plt.rcParams['axes.linewidth']=2\n",
    "plt.rcParams['figure.figsize'] = (16,9)\n",
    "my_cmap = cm.jet_r\n",
    "my_cmap.set_under('k', alpha=0)\n",
    "my_cmap.set_over('k')\n",
    "my_cmap1 = cm.binary_r\n",
    "my_cmap1.set_under('k', alpha=0)\n",
    "fig = plt.figure()\n",
    "fig.suptitle(Data_Name, fontsize=36, fontweight='bold')\n",
    "\n",
    "ax = fig.add_subplot(111)\n",
    "\n",
    "ax.set_xlabel(r'W ($\\mu$m)', fontsize=36, fontweight='bold')\n",
    "ax.set_ylabel(r'S ($\\mu$m)', fontsize=36, fontweight='bold')\n",
    "\n",
    "ax.tick_params(axis='both', which='major', labelsize=18, width=2, length=6)\n",
    "ax.tick_params(axis='both', which='minor', labelsize=18, width=2, length=6)\n",
    "ax.xaxis.get_offset_text().set_visible(False)\n",
    "\n",
    "dimx=625\n",
    "dimy=225\n",
    "\n",
    "imgplot1=ax.imshow(data[500-dimy:-1,0:dimx],  extent=[0,dimx,0,dimy], cmap=my_cmap, aspect='auto',clim=[1,15])\n",
    "imgplot2=ax.imshow(L[500-dimy:-1,0:dimx],  extent=[0,dimx,0,dimy], cmap=my_cmap1, aspect='auto',  clim=[.1,1],alpha=.5)\n",
    "dimx2=25\n",
    "dimx3=185\n",
    "imgplot3=ax.plot(W[dimx3:dimx-dimx2],-W[dimx3:dimx-dimx2]/3+625/3, color='grey', linewidth=8)\n",
    "imgplot4=ax.plot(W[0:np.size(data1[data1<dimy])],data1[data1<dimy], color='black', linewidth=8)\n",
    "imgplot5=ax.plot(W[0:np.size(abs(data2)[abs(data2)<dimy])],abs(data2)[abs(data2)<dimy], color='black', linewidth=8)\n",
    "\n",
    "cbar=plt.colorbar(imgplot1)\n",
    "cbar.ax.tick_params(labelsize=18, width=2, length=6)\n",
    "cbar.set_label(r\"$\\epsilon _r$\", size=36)\n",
    "#save_loc='C:\\\\Users\\\\kbs1\\\\Documents\\\\TEMCarrierApr2018\\\\TEMCarrierApr2018' + '/' +Data_Name+'.png' #root.directory+'/'+'Updated612518'+ '/' +Data_Name+'.png'\n",
    "#plt.savefig(save_loc)"
   ]
  },
  {
   "cell_type": "code",
   "execution_count": null,
   "metadata": {},
   "outputs": [],
   "source": [
    "\n",
    "\n",
    "plt.rc('font', weight='bold')\n",
    "plt.rcParams['axes.linewidth']=2\n",
    "plt.rcParams['figure.figsize'] = (16,9)\n",
    "\n",
    "fig = plt.figure()\n",
    "fig.suptitle(Data_Name, fontsize=36, fontweight='bold')\n",
    "\n",
    "ax = fig.add_subplot(111)\n",
    "\n",
    "ax.set_xlabel('Frequency (GHz)', fontsize=36, fontweight='bold')\n",
    "ax.set_ylabel(r'S$_{11}$ (dB)', fontsize=36, fontweight='bold')\n",
    "\n",
    "ax.tick_params(axis='both', which='major', labelsize=18, width=2, length=6)\n",
    "ax.tick_params(axis='both', which='minor', labelsize=18, width=2, length=6)\n",
    "ax.xaxis.get_offset_text().set_visible(False)\n",
    "\n",
    "fig=plt.plot(X,y1,'g-',linewidth=5, label='Cable')    \n",
    "fig=plt.plot(X,YA,'b-',linewidth=5, label='Holder')\n",
    "fig=plt.plot(X,y1c,'r-',linewidth=5, label='As Measured')\n",
    "    \n",
    "fig=plt.plot(X_orig,YA_orig,'b-',linewidth=1)\n",
    "fig=plt.plot(X_orig,y1_orig,'g-',linewidth=1)\n",
    "fig=plt.plot(X_orig,y1c_orig,'r-',linewidth=1)    \n",
    "    \n",
    "    \n",
    "leg=plt.legend(fontsize=30, loc=4, frameon=False)\n",
    "\n",
    "for legobj in leg.legendHandles:\n",
    "    legobj.set_linewidth(4.0)\n",
    "\n",
    "plt.show()\n"
   ]
  },
  {
   "cell_type": "code",
   "execution_count": null,
   "metadata": {},
   "outputs": [],
   "source": [
    "data1[np.logical_and(0<data1,data1<dimy)]"
   ]
  },
  {
   "cell_type": "code",
   "execution_count": null,
   "metadata": {},
   "outputs": [],
   "source": [
    "abs(data2)[abs(data2)<dimy].shape"
   ]
  },
  {
   "cell_type": "code",
   "execution_count": null,
   "metadata": {},
   "outputs": [],
   "source": [
    "data2[:,0].shape"
   ]
  },
  {
   "cell_type": "code",
   "execution_count": null,
   "metadata": {},
   "outputs": [],
   "source": []
  }
 ],
 "metadata": {
  "kernelspec": {
   "display_name": "Python [conda env:Machine_Learning]",
   "language": "python",
   "name": "conda-env-Machine_Learning-py"
  },
  "language_info": {
   "codemirror_mode": {
    "name": "ipython",
    "version": 3
   },
   "file_extension": ".py",
   "mimetype": "text/x-python",
   "name": "python",
   "nbconvert_exporter": "python",
   "pygments_lexer": "ipython3",
   "version": "3.6.6"
  }
 },
 "nbformat": 4,
 "nbformat_minor": 2
}
