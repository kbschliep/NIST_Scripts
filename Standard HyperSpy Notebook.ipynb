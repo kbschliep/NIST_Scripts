{
 "cells": [
  {
   "cell_type": "code",
   "execution_count": 1,
   "metadata": {},
   "outputs": [
    {
     "name": "stderr",
     "output_type": "stream",
     "text": [
      "WARNING:hyperspy.api:The ipywidgets GUI elements are not available, probably because the hyperspy_gui_ipywidgets package is not installed.\n"
     ]
    }
   ],
   "source": [
    "## Packages\n",
    "'''Import all the necessary packages and modules'''\n",
    "\n",
    "\n",
    "%matplotlib qt4 \n",
    "#uses matplotlib qt4 interface to work with Hyperspy\n",
    "\n",
    "import hyperspy.api as hs #call hyperspy by hs\n",
    "hs.preferences.gui(toolkit='traitsui') #opens traitsui preference window\n",
    "from scipy import signal\n",
    "import scipy as sp\n",
    "import numpy as np # package for playing with matrices\n",
    "import matplotlib.pyplot as plt\n",
    "import sys, os # python modules for interacting with computer\n",
    "from tkinter import filedialog # interface for opening a file explorer\n",
    "from tkinter import * # * imports all files in tkinter \n",
    "from tqdm import tqdm #shows loading bar\n",
    "import pandas as pd\n",
    "import glob"
   ]
  },
  {
   "cell_type": "code",
   "execution_count": null,
   "metadata": {},
   "outputs": [],
   "source": [
    "## Data Directory GUI\n",
    "'''Getting data directory so data can easily be imported \n",
    "using this format data = hs.load('*.dm3', stack=True) to import all dm3s in folder as a stack'''\n",
    "\n",
    "\n",
    "root = Tk() # Tk() is a function in tkinter that opens a window\n",
    "root.directory = filedialog.askdirectory() # opens explorer window so you can find the folder of choice\n",
    "#root.file = fieldialog.askopenfilename()\n",
    "root.withdraw() # closes the tkinter window since it's unnecessary\n",
    "oldcwd = os.getcwd() # saves old called working directory (place where data is drawn from) as oldcwd use os.chdir(oldcwd) to go back\n",
    "os.chdir(root.directory) # sets new directory\n",
    "newcwd = os.getcwd() # saves new directory name as newcwd"
   ]
  },
  {
   "cell_type": "code",
   "execution_count": null,
   "metadata": {},
   "outputs": [],
   "source": [
    "## Load Data\n",
    "''' Open data and set up for analysis'''\n",
    "\n",
    "\n",
    "data = hs.load('*.dm3', stack=True) # loads all dm3 in the folder directory into a stack called data\n",
    "s = data.align2D()  # Aligns data stack and removes edges. Not working well\n",
    "n = np.shape(data)[2] # gives dimension of data (n x m) n = x-axis\n",
    "m = np.shape(data)[1] # gives dimension of data (n x m) m = y-axis\n",
    "z = np.shape(data)[0] # gives dimension of time steps = t-axis"
   ]
  },
  {
   "cell_type": "code",
   "execution_count": null,
   "metadata": {},
   "outputs": [],
   "source": [
    "data.plot() # use h to set brightness and contrast"
   ]
  }
 ],
 "metadata": {
  "kernelspec": {
   "display_name": "Python 3",
   "language": "python",
   "name": "python3"
  },
  "language_info": {
   "codemirror_mode": {
    "name": "ipython",
    "version": 3
   },
   "file_extension": ".py",
   "mimetype": "text/x-python",
   "name": "python",
   "nbconvert_exporter": "python",
   "pygments_lexer": "ipython3",
   "version": "3.5.4"
  }
 },
 "nbformat": 4,
 "nbformat_minor": 2
}
